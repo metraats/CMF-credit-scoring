{
 "cells": [
  {
   "cell_type": "markdown",
   "metadata": {
    "id": "Nw5uM9W-m-LP"
   },
   "source": [
    "# Знакомство с датасетом"
   ]
  },
  {
   "cell_type": "code",
   "execution_count": 55,
   "metadata": {
    "id": "Y9gQOCLvccEP"
   },
   "outputs": [],
   "source": [
    "import pandas as pd\n",
    "import matplotlib.pyplot as plt\n",
    "import numpy as np\n",
    "import seaborn as sns\n",
    "from sklearn.model_selection import train_test_split\n",
    "import warnings\n",
    "warnings.filterwarnings('ignore')"
   ]
  },
  {
   "cell_type": "code",
   "execution_count": 56,
   "metadata": {
    "id": "iee9Y9dhdMVy"
   },
   "outputs": [],
   "source": [
    "X = pd.read_csv('X_train.csv')\n",
    "y = pd.read_csv('y_train.csv')"
   ]
  },
  {
   "cell_type": "markdown",
   "metadata": {
    "id": "zNxUXErit9AD"
   },
   "source": [
    "Оценим баланс классов."
   ]
  },
  {
   "cell_type": "code",
   "execution_count": 57,
   "metadata": {
    "colab": {
     "base_uri": "https://localhost:8080/"
    },
    "id": "xW2q1wuT7lTr",
    "outputId": "c6f8e6c5-810a-40d7-f401-ba8c436aa193"
   },
   "outputs": [
    {
     "data": {
      "text/plain": [
       "target\n",
       "0         98078\n",
       "1          7031\n",
       "dtype: int64"
      ]
     },
     "execution_count": 57,
     "metadata": {},
     "output_type": "execute_result"
    }
   ],
   "source": [
    "y.value_counts()"
   ]
  },
  {
   "cell_type": "markdown",
   "metadata": {
    "id": "LIVwfduhuDiW"
   },
   "source": [
    "Посмотрим из чего состоит датасет."
   ]
  },
  {
   "cell_type": "code",
   "execution_count": 58,
   "metadata": {
    "colab": {
     "base_uri": "https://localhost:8080/",
     "height": 285
    },
    "id": "DAC1hviZdZlF",
    "outputId": "f2577ba3-a773-4ec0-cd80-67a88aa6e736"
   },
   "outputs": [
    {
     "name": "stdout",
     "output_type": "stream",
     "text": [
      "(105109, 10)\n"
     ]
    },
    {
     "data": {
      "text/html": [
       "<div>\n",
       "<style scoped>\n",
       "    .dataframe tbody tr th:only-of-type {\n",
       "        vertical-align: middle;\n",
       "    }\n",
       "\n",
       "    .dataframe tbody tr th {\n",
       "        vertical-align: top;\n",
       "    }\n",
       "\n",
       "    .dataframe thead th {\n",
       "        text-align: right;\n",
       "    }\n",
       "</style>\n",
       "<table border=\"1\" class=\"dataframe\">\n",
       "  <thead>\n",
       "    <tr style=\"text-align: right;\">\n",
       "      <th></th>\n",
       "      <th>credit_card_utilization</th>\n",
       "      <th>age</th>\n",
       "      <th>overdue_30_59_days</th>\n",
       "      <th>debt_to_income</th>\n",
       "      <th>monthly_income</th>\n",
       "      <th>credits_loans</th>\n",
       "      <th>overdue__more_than_90_days</th>\n",
       "      <th>mortgage_loans</th>\n",
       "      <th>overdue_60_89_days</th>\n",
       "      <th>family_members</th>\n",
       "    </tr>\n",
       "  </thead>\n",
       "  <tbody>\n",
       "    <tr>\n",
       "      <th>0</th>\n",
       "      <td>0.000000</td>\n",
       "      <td>56</td>\n",
       "      <td>0</td>\n",
       "      <td>0.504328</td>\n",
       "      <td>6823.894458</td>\n",
       "      <td>9</td>\n",
       "      <td>0</td>\n",
       "      <td>1</td>\n",
       "      <td>0</td>\n",
       "      <td>5.0</td>\n",
       "    </tr>\n",
       "    <tr>\n",
       "      <th>1</th>\n",
       "      <td>0.170659</td>\n",
       "      <td>45</td>\n",
       "      <td>1</td>\n",
       "      <td>2.405860</td>\n",
       "      <td>356.580765</td>\n",
       "      <td>5</td>\n",
       "      <td>0</td>\n",
       "      <td>0</td>\n",
       "      <td>0</td>\n",
       "      <td>0.0</td>\n",
       "    </tr>\n",
       "    <tr>\n",
       "      <th>2</th>\n",
       "      <td>0.342176</td>\n",
       "      <td>75</td>\n",
       "      <td>1</td>\n",
       "      <td>0.445066</td>\n",
       "      <td>20349.895825</td>\n",
       "      <td>9</td>\n",
       "      <td>0</td>\n",
       "      <td>3</td>\n",
       "      <td>0</td>\n",
       "      <td>0.0</td>\n",
       "    </tr>\n",
       "    <tr>\n",
       "      <th>3</th>\n",
       "      <td>0.046219</td>\n",
       "      <td>50</td>\n",
       "      <td>0</td>\n",
       "      <td>0.814508</td>\n",
       "      <td>2894.368968</td>\n",
       "      <td>12</td>\n",
       "      <td>0</td>\n",
       "      <td>1</td>\n",
       "      <td>0</td>\n",
       "      <td>3.0</td>\n",
       "    </tr>\n",
       "    <tr>\n",
       "      <th>4</th>\n",
       "      <td>0.679556</td>\n",
       "      <td>58</td>\n",
       "      <td>0</td>\n",
       "      <td>0.390311</td>\n",
       "      <td>24833.227614</td>\n",
       "      <td>15</td>\n",
       "      <td>0</td>\n",
       "      <td>4</td>\n",
       "      <td>0</td>\n",
       "      <td>2.0</td>\n",
       "    </tr>\n",
       "  </tbody>\n",
       "</table>\n",
       "</div>"
      ],
      "text/plain": [
       "   credit_card_utilization  age  overdue_30_59_days  debt_to_income  \\\n",
       "0                 0.000000   56                   0        0.504328   \n",
       "1                 0.170659   45                   1        2.405860   \n",
       "2                 0.342176   75                   1        0.445066   \n",
       "3                 0.046219   50                   0        0.814508   \n",
       "4                 0.679556   58                   0        0.390311   \n",
       "\n",
       "   monthly_income  credits_loans  overdue__more_than_90_days  mortgage_loans  \\\n",
       "0     6823.894458              9                           0               1   \n",
       "1      356.580765              5                           0               0   \n",
       "2    20349.895825              9                           0               3   \n",
       "3     2894.368968             12                           0               1   \n",
       "4    24833.227614             15                           0               4   \n",
       "\n",
       "   overdue_60_89_days  family_members  \n",
       "0                   0             5.0  \n",
       "1                   0             0.0  \n",
       "2                   0             0.0  \n",
       "3                   0             3.0  \n",
       "4                   0             2.0  "
      ]
     },
     "execution_count": 58,
     "metadata": {},
     "output_type": "execute_result"
    }
   ],
   "source": [
    "print(X.shape)\n",
    "X.head()"
   ]
  },
  {
   "cell_type": "markdown",
   "metadata": {
    "id": "Kijl7mOLvF1H"
   },
   "source": [
    "Разделим датасет на train и test, а также добавим в X колонку y, чтобы можно было удобно чистить датасет."
   ]
  },
  {
   "cell_type": "code",
   "execution_count": 59,
   "metadata": {
    "id": "WYjtIxrCNsx-"
   },
   "outputs": [],
   "source": [
    "X_train, X_test, y_train, y_test = train_test_split(X, y, test_size = 0.2)\n",
    "\n",
    "X_train['Target'] = y_train"
   ]
  },
  {
   "cell_type": "markdown",
   "metadata": {
    "id": "AA_f-41evYAw"
   },
   "source": [
    "# Анализ и чистка фичей тренировочного датасета"
   ]
  },
  {
   "cell_type": "markdown",
   "metadata": {},
   "source": [
    "Рассмотрим, какие корреляции есть в фичах, и как они сами коррелируют с результатом."
   ]
  },
  {
   "cell_type": "code",
   "execution_count": 60,
   "metadata": {},
   "outputs": [
    {
     "data": {
      "text/plain": [
       "<AxesSubplot:>"
      ]
     },
     "execution_count": 60,
     "metadata": {},
     "output_type": "execute_result"
    },
    {
     "data": {
      "image/png": "[encoded data removed]",
      "text/plain": [
       "<Figure size 432x288 with 2 Axes>"
      ]
     },
     "metadata": {
      "needs_background": "light"
     },
     "output_type": "display_data"
    }
   ],
   "source": [
    "sns.heatmap(X_train.corr(), cmap = 'binary')"
   ]
  },
  {
   "cell_type": "code",
   "execution_count": 61,
   "metadata": {},
   "outputs": [
    {
     "data": {
      "image/png": "[encoded data removed]",
      "text/plain": [
       "<Figure size 432x288 with 1 Axes>"
      ]
     },
     "metadata": {
      "needs_background": "light"
     },
     "output_type": "display_data"
    }
   ],
   "source": [
    "correlation_column = X_train.corr()['Target'][:-1]\n",
    "plot = sns.barplot(y = correlation_column.index, x = correlation_column, color = 'cornflowerblue')"
   ]
  },
  {
   "cell_type": "markdown",
   "metadata": {
    "id": "FahWb47wh1hb"
   },
   "source": [
    "**Изучаем возраст**"
   ]
  },
  {
   "cell_type": "code",
   "execution_count": 62,
   "metadata": {
    "colab": {
     "base_uri": "https://localhost:8080/",
     "height": 334
    },
    "id": "SM3DmkELhW_D",
    "outputId": "504c0668-f499-4d34-ae60-0cdfe63f16ca"
   },
   "outputs": [
    {
     "data": {
      "image/png": "[encoded data removed]",
      "text/plain": [
       "<Figure size 432x288 with 1 Axes>"
      ]
     },
     "metadata": {
      "needs_background": "light"
     },
     "output_type": "display_data"
    }
   ],
   "source": [
    "sns.distplot(X_train['age'])\n",
    "plt.show()"
   ]
  },
  {
   "cell_type": "markdown",
   "metadata": {
    "id": "h_LHkZL52g8b"
   },
   "source": [
    "Рассмотрим уникальные значения. Как мы видим, есть человек с возрастом 0, это точно ошибка. Также есть люди с очень большим возрастом, их тоже можно убрать, так как они ни на что не влияют, но увеличивают разброс значений в столбце возраста. Также рассмотрим сколько здесь пропусков."
   ]
  },
  {
   "cell_type": "code",
   "execution_count": 63,
   "metadata": {
    "colab": {
     "base_uri": "https://localhost:8080/"
    },
    "id": "YggAdAhx2JbA",
    "outputId": "e4144ae7-a3f2-440e-9bb9-9092e2255ac9"
   },
   "outputs": [
    {
     "data": {
      "text/plain": [
       "0"
      ]
     },
     "execution_count": 63,
     "metadata": {},
     "output_type": "execute_result"
    }
   ],
   "source": [
    "X_train['age'].isna().sum()"
   ]
  },
  {
   "cell_type": "code",
   "execution_count": 64,
   "metadata": {
    "colab": {
     "base_uri": "https://localhost:8080/"
    },
    "id": "MYqY_7awjAgb",
    "outputId": "9d102db3-0985-40d8-89fe-a8144dab684d"
   },
   "outputs": [
    {
     "data": {
      "text/plain": [
       "array([ 21,  22,  23,  24,  25,  26,  27,  28,  29,  30,  31,  32,  33,\n",
       "        34,  35,  36,  37,  38,  39,  40,  41,  42,  43,  44,  45,  46,\n",
       "        47,  48,  49,  50,  51,  52,  53,  54,  55,  56,  57,  58,  59,\n",
       "        60,  61,  62,  63,  64,  65,  66,  67,  68,  69,  70,  71,  72,\n",
       "        73,  74,  75,  76,  77,  78,  79,  80,  81,  82,  83,  84,  85,\n",
       "        86,  87,  88,  89,  90,  91,  92,  93,  94,  95,  96,  97,  98,\n",
       "        99, 100, 101, 102, 103, 107, 111])"
      ]
     },
     "execution_count": 64,
     "metadata": {},
     "output_type": "execute_result"
    }
   ],
   "source": [
    "np.sort(X_train['age'].unique())"
   ]
  },
  {
   "cell_type": "code",
   "execution_count": 65,
   "metadata": {
    "colab": {
     "base_uri": "https://localhost:8080/"
    },
    "id": "j9qkthNr18F7",
    "outputId": "624bbd91-a363-447e-df52-40da771ebbf8"
   },
   "outputs": [
    {
     "name": "stdout",
     "output_type": "stream",
     "text": [
      "Людей возраста 0: 0\n",
      "Людей возраста больше или равно 99: 18\n"
     ]
    }
   ],
   "source": [
    "print('Людей возраста 0:', X_train[X_train['age'] == 0]['age'].count())\n",
    "print('Людей возраста больше или равно 99:', X_train[X_train['age'] >= 99]['age'].count())"
   ]
  },
  {
   "cell_type": "code",
   "execution_count": 66,
   "metadata": {
    "id": "8J0Pr12jmD9v"
   },
   "outputs": [],
   "source": [
    "X_train = X_train.loc[X_train['age'] >= 18] #18, так как кредит по закону раньше нельзя брать\n",
    "X_train = X_train.loc[X_train['age']<99]"
   ]
  },
  {
   "cell_type": "markdown",
   "metadata": {
    "id": "tzHRJ4rJqS9N"
   },
   "source": [
    "Выбросили концы распределения."
   ]
  },
  {
   "cell_type": "markdown",
   "metadata": {
    "id": "U70u8nSvqXZf"
   },
   "source": [
    "**Изучаем credit_card_utilization**"
   ]
  },
  {
   "cell_type": "code",
   "execution_count": 67,
   "metadata": {
    "id": "R-qoC9LukIb0"
   },
   "outputs": [
    {
     "data": {
      "text/plain": [
       "[48779.7300231001,\n",
       " 25468.42419996112,\n",
       " 22283.019973145543,\n",
       " 18844.4723584137,\n",
       " 15579.608645085467,\n",
       " 15254.61878656454,\n",
       " 13339.290958915064,\n",
       " 12903.45724308552,\n",
       " 12717.921746076332,\n",
       " 10459.556130557909,\n",
       " 9727.572244245372,\n",
       " 9429.40667582742,\n",
       " 8779.36943941735,\n",
       " 8522.7100102909,\n",
       " 8139.342325364477,\n",
       " 7355.38728896879,\n",
       " 7312.229911669399,\n",
       " 7153.909288170487,\n",
       " 6609.622527651887,\n",
       " 6227.607577647202,\n",
       " 6098.364787185761,\n",
       " 6090.989322666474,\n",
       " 5676.826823159886,\n",
       " 5351.590634327387,\n",
       " 5302.898655660631,\n",
       " 5181.127902539248,\n",
       " 5037.074732319267,\n",
       " 4437.554448679197,\n",
       " 4297.933156785524,\n",
       " 4272.040105496131,\n",
       " 4251.258250044688,\n",
       " 4141.205526100422,\n",
       " 4138.623115883562,\n",
       " 4031.005313573004,\n",
       " 3963.620985130472,\n",
       " 3915.745701578645,\n",
       " 3548.180752063649,\n",
       " 3518.8284647696723,\n",
       " 3505.463088948,\n",
       " 3422.863404388227,\n",
       " 3336.623928276321,\n",
       " 3283.265896155884,\n",
       " 3274.9707422743472,\n",
       " 3216.3792197006283,\n",
       " 3180.3625860667344,\n",
       " 3100.6777634193904,\n",
       " 3078.1748489796155,\n",
       " 3059.5127691076486,\n",
       " 3050.4461707050496,\n",
       " 3023.1911455029285,\n",
       " 2944.973018414139,\n",
       " 2809.892921916654,\n",
       " 2777.7764681069493,\n",
       " 2729.828709955135,\n",
       " 2543.4669175863446,\n",
       " 2395.4597094794717,\n",
       " 2374.636341090031,\n",
       " 2366.772506261292,\n",
       " 2315.738432157393,\n",
       " 2275.006928120666,\n",
       " 2266.346355856223,\n",
       " 2228.4961830401435,\n",
       " 2209.8730183540515,\n",
       " 2209.108007218842,\n",
       " 2176.485641371079,\n",
       " 2136.527565797994,\n",
       " 2132.295410627884,\n",
       " 2119.013367413983,\n",
       " 2093.986165981236,\n",
       " 2012.7216437938373,\n",
       " 1943.7662693002649,\n",
       " 1924.232990126509,\n",
       " 1839.7679814107407,\n",
       " 1824.354346931222,\n",
       " 1811.3320355117123,\n",
       " 1803.5181418708332,\n",
       " 1801.2607229931682,\n",
       " 1782.7102481657282,\n",
       " 1737.892610694621,\n",
       " 1721.7468550922442,\n",
       " 1709.1054020109602,\n",
       " 1681.7378472644898,\n",
       " 1671.7649557898642,\n",
       " 1649.844429479992,\n",
       " 1641.0456480359833,\n",
       " 1638.5471174590662,\n",
       " 1616.3878355472036,\n",
       " 1598.9593945949186,\n",
       " 1596.8623265998904,\n",
       " 1404.0160070347922,\n",
       " 1263.1135564278457,\n",
       " 1193.7252793198936,\n",
       " 1177.0544607383576,\n",
       " 1167.1398758142473,\n",
       " 1136.5079150609115,\n",
       " 1113.0639918197069,\n",
       " 1110.1077445273802,\n",
       " 1074.6607725062304,\n",
       " 1047.897988055525,\n",
       " 1019.7587879518412,\n",
       " 1006.7974311676112,\n",
       " 1000.1931313407024,\n",
       " 977.67157806486,\n",
       " 957.7040853235152,\n",
       " 936.9074743319452,\n",
       " 931.6055609733584,\n",
       " 868.8854684785633,\n",
       " 856.9145374953753,\n",
       " 847.4649528074561,\n",
       " 825.6112366061324,\n",
       " 810.2868834931697,\n",
       " 803.5242240958461,\n",
       " 765.0596090876286,\n",
       " 752.4811796251632,\n",
       " 723.5336046891387,\n",
       " 721.7405983331022,\n",
       " 684.519948485747,\n",
       " 621.9692974025648,\n",
       " 608.5660728809,\n",
       " 576.5232553364779,\n",
       " 525.5908587811166,\n",
       " 456.4738708736833,\n",
       " 429.918171950661,\n",
       " 387.7994618181224,\n",
       " 359.59994082129907,\n",
       " 318.53818534784773,\n",
       " 234.55005055631605,\n",
       " 234.15034428437,\n",
       " 114.88541749814134,\n",
       " 88.7053511920141,\n",
       " 78.1783665679493,\n",
       " 57.64112830836712,\n",
       " 55.38339906464524,\n",
       " 52.11601649757542,\n",
       " 42.90481960553005,\n",
       " 36.32169797996014,\n",
       " 29.006770258361662,\n",
       " 18.96233754060034,\n",
       " 16.5947577028171,\n",
       " 15.05569619491024,\n",
       " 14.127636794707268,\n",
       " 11.723943472465026,\n",
       " 11.381328970145262,\n",
       " 9.015712280136588,\n",
       " 6.019947527143221,\n",
       " 6.00649863096033,\n",
       " 5.935456402816605,\n",
       " 5.523192463965181,\n",
       " 5.3882809133202505,\n",
       " 5.275803293082853,\n",
       " 5.268668310474317,\n",
       " 5.0944871312095055,\n",
       " 4.834201437395567,\n",
       " 4.669767845212359,\n",
       " 4.59436575281786,\n",
       " 4.155981793512958,\n",
       " 4.124463872510117,\n",
       " 3.941179222776405,\n",
       " 3.779762435691862,\n",
       " 3.4980997589445137,\n",
       " 3.4792001065088938,\n",
       " 3.315170578476075,\n",
       " 3.3092640308996746,\n",
       " 3.195198690277496,\n",
       " 3.0832903021637663,\n",
       " 3.0797629883853403,\n",
       " 3.003332167373163,\n",
       " 2.9500934830064,\n",
       " 2.9439696936136475,\n",
       " 2.7983411028936778,\n",
       " 2.7853267898641088,\n",
       " 2.7763476572553607,\n",
       " 2.755938101374144,\n",
       " 2.745482924787254,\n",
       " 2.725720725668972,\n",
       " 2.713104095448473,\n",
       " 2.691963422653012,\n",
       " 2.6812997223087005,\n",
       " 2.585391910284599,\n",
       " 2.4133999914496296,\n",
       " 2.401097239392521,\n",
       " 2.359510489201627,\n",
       " 2.35662970351304,\n",
       " 2.327883818149973,\n",
       " 2.2907153555198128,\n",
       " 2.2617874952291763,\n",
       " 2.2482243703834746,\n",
       " 2.2357329631812477,\n",
       " 2.222139478646723,\n",
       " 2.217417686504598,\n",
       " 2.20470238527941,\n",
       " 2.1890955016820937,\n",
       " 2.187152277438457,\n",
       " 2.1840239545649576,\n",
       " 2.1699138836442824,\n",
       " 2.146870341832082,\n",
       " 2.1427324372415235,\n",
       " 2.120657380999573,\n",
       " 2.108708863255504,\n",
       " 2.102633702531889,\n",
       " 2.071811530395422,\n",
       " 2.0702277919193213,\n",
       " 2.0628860675420366,\n",
       " 2.0597205167600947,\n",
       " 2.0578543994155107,\n",
       " 2.057080950796548,\n",
       " 2.055237468191295,\n",
       " 2.052304342005331,\n",
       " 2.0333723924685567,\n",
       " 2.0315167739631006,\n",
       " 2.0289677801131245,\n",
       " 2.0280393076549936,\n",
       " 2.0245361948400378,\n",
       " 2.0029127837689127,\n",
       " 2.001452583392631,\n",
       " 1.986680451951832,\n",
       " 1.9847760038197355,\n",
       " 1.9823177862413472,\n",
       " 1.968753571937547,\n",
       " 1.9540655228939616,\n",
       " 1.9477285455652555,\n",
       " 1.943878802208043,\n",
       " 1.9398476612773696,\n",
       " 1.9313290862428116,\n",
       " 1.930926987967919,\n",
       " 1.9282779441809936,\n",
       " 1.9233935430838995,\n",
       " 1.9210301022168332,\n",
       " 1.9132129554321056,\n",
       " 1.896514796720693,\n",
       " 1.895657711703706,\n",
       " 1.8900422636620704,\n",
       " 1.8895445257966872,\n",
       " 1.88595162993998,\n",
       " 1.8820071019200508,\n",
       " 1.878404107706776,\n",
       " 1.8772354301991852,\n",
       " 1.874256517027,\n",
       " 1.8735394308531603,\n",
       " 1.862377273184597,\n",
       " 1.859729668900756,\n",
       " 1.85332739734134,\n",
       " 1.8481793970042748,\n",
       " 1.845205984774792,\n",
       " 1.832287419284485,\n",
       " 1.8276071102713825,\n",
       " 1.8231898523525296,\n",
       " 1.820210688528003,\n",
       " 1.8197860855507215,\n",
       " 1.819014592338145,\n",
       " 1.8172758235916944,\n",
       " 1.8123992818730077,\n",
       " 1.8119099796632483,\n",
       " 1.8056929065203475,\n",
       " 1.7986501168308264,\n",
       " 1.787722022516066,\n",
       " 1.7855710412932848,\n",
       " 1.7814350072641831,\n",
       " 1.7633112746723911,\n",
       " 1.7625754522777477,\n",
       " 1.761179783671798,\n",
       " 1.7589751061323329,\n",
       " 1.7586215819204836,\n",
       " 1.7522950677767757,\n",
       " 1.7492851725347067,\n",
       " 1.741682691226056,\n",
       " 1.7397024221139827,\n",
       " 1.7344464783384452,\n",
       " 1.7308817604596187,\n",
       " 1.7301791529866637,\n",
       " 1.728222984600501,\n",
       " 1.7243812878073377,\n",
       " 1.7235943316476643,\n",
       " 1.7114092216712082,\n",
       " 1.706697700726456,\n",
       " 1.7043255795018797,\n",
       " 1.701076822499578,\n",
       " 1.6986160205622325,\n",
       " 1.6947057195424515,\n",
       " 1.693233438395409,\n",
       " 1.688228286817101,\n",
       " 1.6874996960313349,\n",
       " 1.6816486347779498,\n",
       " 1.6785462225248693,\n",
       " 1.678331318813456,\n",
       " 1.674648675154366,\n",
       " 1.6574396750011058,\n",
       " 1.652991452632641,\n",
       " 1.6458124822713305,\n",
       " 1.6453405566280903,\n",
       " 1.6447923889108869,\n",
       " 1.6425274488057524,\n",
       " 1.642207082226904,\n",
       " 1.640972197588212,\n",
       " 1.640353356656631,\n",
       " 1.6400712362159202,\n",
       " 1.6398136632659854,\n",
       " 1.6375231690631098,\n",
       " 1.6339140357091395,\n",
       " 1.6265616457495278,\n",
       " 1.625843504332743,\n",
       " 1.6231735166027208,\n",
       " 1.6224179821695393,\n",
       " 1.6207590397453786,\n",
       " 1.6207008771357905,\n",
       " 1.6136634442131217,\n",
       " 1.610835512119822,\n",
       " 1.6088112660841485,\n",
       " 1.608223092804765,\n",
       " 1.606001405281182,\n",
       " 1.6024551951306367,\n",
       " 1.59260058648588,\n",
       " 1.5890526861469867,\n",
       " 1.584921963024324,\n",
       " 1.5817205649841817,\n",
       " 1.5804983383737752,\n",
       " 1.571503115537893,\n",
       " 1.571470413864442,\n",
       " 1.5692431331407657,\n",
       " 1.5643898800456402,\n",
       " 1.5640704986892953,\n",
       " 1.5631191756241456,\n",
       " 1.5626889131715382,\n",
       " 1.5624954569341996,\n",
       " 1.5615060492036057,\n",
       " 1.55870868259016,\n",
       " 1.5578635342778624,\n",
       " 1.557208608106719,\n",
       " 1.557150927108387,\n",
       " 1.5538830413682054,\n",
       " 1.553660631822252,\n",
       " 1.5430831910193743,\n",
       " 1.53965977767952,\n",
       " 1.53468428184503,\n",
       " 1.5325287014029585,\n",
       " 1.5315581329488948,\n",
       " 1.5313016270689217,\n",
       " 1.5299743644578971,\n",
       " 1.5283489413066438,\n",
       " 1.5192146599906278,\n",
       " 1.5179996929465585,\n",
       " 1.5165820881437098,\n",
       " 1.5151918653850551,\n",
       " 1.511498158019719,\n",
       " 1.5074451115988354,\n",
       " 1.506729494779629,\n",
       " 1.5047395774568648,\n",
       " 1.5025901916683138,\n",
       " 1.5024186212695656,\n",
       " 1.4958288350764868,\n",
       " 1.494870399785578,\n",
       " 1.4840564032419012,\n",
       " 1.4821645327363342,\n",
       " 1.4814252538093124,\n",
       " 1.4811906496199554,\n",
       " 1.480998698471552,\n",
       " 1.4794492905118146,\n",
       " 1.477062359168501,\n",
       " 1.476264002071347,\n",
       " 1.4698696653036474,\n",
       " 1.469466567367415,\n",
       " 1.467370742719023,\n",
       " 1.4667734788889082,\n",
       " 1.466191176247455,\n",
       " 1.462421302694625,\n",
       " 1.4598608075878037,\n",
       " 1.4530251716913485,\n",
       " 1.451165966151212,\n",
       " 1.4488473069590349,\n",
       " 1.4484213288164796,\n",
       " 1.444896852059876,\n",
       " 1.4447791977037736,\n",
       " 1.444735151276692,\n",
       " 1.4446058478780313,\n",
       " 1.4441907294759546,\n",
       " 1.442311837991973,\n",
       " 1.440234625512942,\n",
       " 1.4380795285539192,\n",
       " 1.4370826264611976,\n",
       " 1.4361725468647557,\n",
       " 1.4250992848238455,\n",
       " 1.4236010074426495,\n",
       " 1.4228768518933386,\n",
       " 1.4209336194358393,\n",
       " 1.4182659202916914,\n",
       " 1.4122024275151088,\n",
       " 1.4105180987540085,\n",
       " 1.40989804076148,\n",
       " 1.4063377870876994,\n",
       " 1.4062744091407702,\n",
       " 1.405544851754141,\n",
       " 1.4046311161998866,\n",
       " 1.403503368487397,\n",
       " 1.403050076649218,\n",
       " 1.401402586887989,\n",
       " 1.4013614590343886,\n",
       " 1.3953292457877906,\n",
       " 1.3946933454646722,\n",
       " 1.3939519427356737,\n",
       " 1.3933482282869785,\n",
       " 1.3918703126240024,\n",
       " 1.3913520321756756,\n",
       " 1.3903313638054329,\n",
       " 1.3886487675930403,\n",
       " 1.386267355275469,\n",
       " 1.386263946349928,\n",
       " 1.3859806214680264,\n",
       " 1.385350961938064,\n",
       " 1.3843647760756703,\n",
       " 1.3838526179801058,\n",
       " 1.3776253947477173,\n",
       " 1.376343323656059,\n",
       " 1.3748492501319434,\n",
       " 1.374236576803964,\n",
       " 1.3736169918600636,\n",
       " 1.373293622071675,\n",
       " 1.3697486468650972,\n",
       " 1.3688706113061626,\n",
       " 1.3685418246484564,\n",
       " 1.3654812667555596,\n",
       " 1.3649529356843415,\n",
       " 1.3611104504375886,\n",
       " 1.3607253163865014,\n",
       " 1.3564520422127786,\n",
       " 1.3561750635682233,\n",
       " 1.3547278080599865,\n",
       " 1.3539000613755012,\n",
       " 1.3535775239298398,\n",
       " 1.352803869116456,\n",
       " 1.3516315180702516,\n",
       " 1.350149458171336,\n",
       " 1.3501091446364777,\n",
       " 1.3496959193208309,\n",
       " 1.3489529810209306,\n",
       " 1.347971231009372,\n",
       " 1.3478554954817823,\n",
       " 1.345513216786045,\n",
       " 1.3453097706819543,\n",
       " 1.3452854222341333,\n",
       " 1.3436923003038674,\n",
       " 1.3419583139203086,\n",
       " 1.3405503112948178,\n",
       " 1.336241603237157,\n",
       " 1.3355529869449536,\n",
       " 1.3334373788837977,\n",
       " 1.3315956033271366,\n",
       " 1.3311193726491783,\n",
       " 1.3301027387549968,\n",
       " 1.329934664563049,\n",
       " 1.3293696361386316,\n",
       " 1.3291851943317068,\n",
       " 1.3289955020273274,\n",
       " 1.3279306047312416,\n",
       " 1.326922003584496,\n",
       " 1.3262290363894018,\n",
       " 1.3261083853479636,\n",
       " 1.3251749525912635,\n",
       " 1.324357165219316,\n",
       " 1.3238887910866273,\n",
       " 1.3224233410531143,\n",
       " 1.3190983634483249,\n",
       " 1.318444103617428,\n",
       " 1.3182909957260345,\n",
       " 1.3180037236925657,\n",
       " 1.317520612063802,\n",
       " 1.317477868462271,\n",
       " 1.316290862536499,\n",
       " 1.3158571834871342,\n",
       " 1.315342051953407,\n",
       " 1.314315118577914,\n",
       " 1.3142377707932928,\n",
       " 1.3134232939135684,\n",
       " 1.3118120249248908,\n",
       " 1.311583512013201,\n",
       " 1.311543541184593,\n",
       " 1.3107938872682,\n",
       " 1.3104784956095523,\n",
       " 1.3102129769055106,\n",
       " 1.3093644739759127,\n",
       " 1.308304403012954,\n",
       " 1.3075060942371193,\n",
       " 1.3047399010293113,\n",
       " 1.3035051471172872,\n",
       " 1.3028746112969454,\n",
       " 1.3025050665375435,\n",
       " 1.3019027373325556,\n",
       " 1.3014786283401805,\n",
       " 1.3012061288612584,\n",
       " 1.301149426697658,\n",
       " 1.3010305776424564,\n",
       " 1.3008444193075883,\n",
       " 1.30082455052699,\n",
       " 1.2998800465857008,\n",
       " 1.2986001795210769,\n",
       " 1.295496193199182,\n",
       " 1.2949796264906093,\n",
       " 1.2949431718555529,\n",
       " 1.2949342678381313,\n",
       " 1.29383071672881,\n",
       " 1.2938043698210873]"
      ]
     },
     "execution_count": 67,
     "metadata": {},
     "output_type": "execute_result"
    }
   ],
   "source": [
    "from heapq import nlargest\n",
    "nlargest(500, X_train['credit_card_utilization'])"
   ]
  },
  {
   "cell_type": "code",
   "execution_count": 68,
   "metadata": {
    "colab": {
     "base_uri": "https://localhost:8080/"
    },
    "id": "YASABw652OfT",
    "outputId": "996455a7-97ad-46f3-ee73-3d67598da4ab"
   },
   "outputs": [
    {
     "data": {
      "text/plain": [
       "0"
      ]
     },
     "execution_count": 68,
     "metadata": {},
     "output_type": "execute_result"
    }
   ],
   "source": [
    "X_train['credit_card_utilization'].isna().sum()"
   ]
  },
  {
   "cell_type": "markdown",
   "metadata": {
    "id": "d3ao4eM75wtP"
   },
   "source": [
    "Много больших значений. Есть значения по несколько десятков тысяч, что неправдоподобно.Уберем значения, большие 6. Их относительно не так много. Пропусков нет."
   ]
  },
  {
   "cell_type": "code",
   "execution_count": 69,
   "metadata": {
    "colab": {
     "base_uri": "https://localhost:8080/"
    },
    "id": "rP3t1m4n58X7",
    "outputId": "326f735e-e0cd-420c-911d-9a1ef19240a9"
   },
   "outputs": [
    {
     "data": {
      "text/plain": [
       "146"
      ]
     },
     "execution_count": 69,
     "metadata": {},
     "output_type": "execute_result"
    }
   ],
   "source": [
    "X_train[X_train['credit_card_utilization'] >= 6]['credit_card_utilization'].count()"
   ]
  },
  {
   "cell_type": "code",
   "execution_count": 70,
   "metadata": {
    "id": "S-RpLmQrtF-n"
   },
   "outputs": [],
   "source": [
    "X_train = X_train.loc[X_train['credit_card_utilization'] < 6]"
   ]
  },
  {
   "cell_type": "markdown",
   "metadata": {
    "id": "c1HYZmGstcwl"
   },
   "source": [
    "**Изучаем Overdue на экстремальные значения**"
   ]
  },
  {
   "cell_type": "code",
   "execution_count": 71,
   "metadata": {
    "colab": {
     "base_uri": "https://localhost:8080/"
    },
    "id": "GW1U7-Il2Vhj",
    "outputId": "e65fd03b-e098-4131-845e-a3d24a6193f0"
   },
   "outputs": [
    {
     "name": "stdout",
     "output_type": "stream",
     "text": [
      "0\n",
      "0\n",
      "0\n"
     ]
    }
   ],
   "source": [
    "#Как и прежде, смотрим пропуски\n",
    "print(X_train['overdue_30_59_days'].isna().sum())\n",
    "print(X_train['overdue_60_89_days'].isna().sum())\n",
    "print(X_train['overdue__more_than_90_days'].isna().sum())"
   ]
  },
  {
   "cell_type": "code",
   "execution_count": 72,
   "metadata": {
    "colab": {
     "base_uri": "https://localhost:8080/"
    },
    "id": "XeiRSuZVt41H",
    "outputId": "aad54fe2-865d-4fd2-9549-06d339b24527"
   },
   "outputs": [
    {
     "data": {
      "text/plain": [
       "array([ 0,  1,  2,  3,  4,  5,  6,  7,  8,  9, 10, 11, 12, 96, 98])"
      ]
     },
     "execution_count": 72,
     "metadata": {},
     "output_type": "execute_result"
    }
   ],
   "source": [
    "np.sort(X_train['overdue_30_59_days'].unique())"
   ]
  },
  {
   "cell_type": "code",
   "execution_count": 73,
   "metadata": {},
   "outputs": [
    {
     "data": {
      "text/plain": [
       "{'whiskers': [<matplotlib.lines.Line2D at 0x7f77ca7a3eb0>,\n",
       "  <matplotlib.lines.Line2D at 0x7f77ca7b21c0>],\n",
       " 'caps': [<matplotlib.lines.Line2D at 0x7f77ca7b2490>,\n",
       "  <matplotlib.lines.Line2D at 0x7f77ca7b2760>],\n",
       " 'boxes': [<matplotlib.lines.Line2D at 0x7f77ca7a3bb0>],\n",
       " 'medians': [<matplotlib.lines.Line2D at 0x7f77ca7b2a30>],\n",
       " 'fliers': [<matplotlib.lines.Line2D at 0x7f77ca7b2d00>],\n",
       " 'means': []}"
      ]
     },
     "execution_count": 73,
     "metadata": {},
     "output_type": "execute_result"
    },
    {
     "data": {
      "image/png": "[encoded data removed]",
      "text/plain": [
       "<Figure size 432x288 with 1 Axes>"
      ]
     },
     "metadata": {
      "needs_background": "light"
     },
     "output_type": "display_data"
    }
   ],
   "source": [
    "plt.boxplot(X_train['credit_card_utilization'])"
   ]
  },
  {
   "cell_type": "markdown",
   "metadata": {
    "id": "-bOZTVAr8Clv"
   },
   "source": [
    "Есть значения 96 и 98, что страно. Рассмотрим их подробно."
   ]
  },
  {
   "cell_type": "code",
   "execution_count": 74,
   "metadata": {
    "colab": {
     "base_uri": "https://localhost:8080/",
     "height": 577
    },
    "id": "BTKlOFJ78djT",
    "outputId": "362f9bbd-9f5e-450d-88c5-eca6c6730921"
   },
   "outputs": [
    {
     "data": {
      "text/html": [
       "<div>\n",
       "<style scoped>\n",
       "    .dataframe tbody tr th:only-of-type {\n",
       "        vertical-align: middle;\n",
       "    }\n",
       "\n",
       "    .dataframe tbody tr th {\n",
       "        vertical-align: top;\n",
       "    }\n",
       "\n",
       "    .dataframe thead th {\n",
       "        text-align: right;\n",
       "    }\n",
       "</style>\n",
       "<table border=\"1\" class=\"dataframe\">\n",
       "  <thead>\n",
       "    <tr style=\"text-align: right;\">\n",
       "      <th></th>\n",
       "      <th>credit_card_utilization</th>\n",
       "      <th>age</th>\n",
       "      <th>overdue_30_59_days</th>\n",
       "      <th>debt_to_income</th>\n",
       "      <th>monthly_income</th>\n",
       "      <th>credits_loans</th>\n",
       "      <th>overdue__more_than_90_days</th>\n",
       "      <th>mortgage_loans</th>\n",
       "      <th>overdue_60_89_days</th>\n",
       "      <th>family_members</th>\n",
       "      <th>Target</th>\n",
       "    </tr>\n",
       "  </thead>\n",
       "  <tbody>\n",
       "    <tr>\n",
       "      <th>95569</th>\n",
       "      <td>0.919807</td>\n",
       "      <td>47</td>\n",
       "      <td>96</td>\n",
       "      <td>0.049223</td>\n",
       "      <td>4209.556675</td>\n",
       "      <td>0</td>\n",
       "      <td>96</td>\n",
       "      <td>0</td>\n",
       "      <td>96</td>\n",
       "      <td>0.0</td>\n",
       "      <td>0</td>\n",
       "    </tr>\n",
       "    <tr>\n",
       "      <th>13145</th>\n",
       "      <td>0.901787</td>\n",
       "      <td>34</td>\n",
       "      <td>96</td>\n",
       "      <td>0.000000</td>\n",
       "      <td>3111.947063</td>\n",
       "      <td>0</td>\n",
       "      <td>96</td>\n",
       "      <td>0</td>\n",
       "      <td>96</td>\n",
       "      <td>1.0</td>\n",
       "      <td>1</td>\n",
       "    </tr>\n",
       "    <tr>\n",
       "      <th>40552</th>\n",
       "      <td>1.125812</td>\n",
       "      <td>26</td>\n",
       "      <td>96</td>\n",
       "      <td>0.000000</td>\n",
       "      <td>NaN</td>\n",
       "      <td>1</td>\n",
       "      <td>96</td>\n",
       "      <td>0</td>\n",
       "      <td>96</td>\n",
       "      <td>0.0</td>\n",
       "      <td>1</td>\n",
       "    </tr>\n",
       "    <tr>\n",
       "      <th>33792</th>\n",
       "      <td>1.202728</td>\n",
       "      <td>35</td>\n",
       "      <td>96</td>\n",
       "      <td>0.005229</td>\n",
       "      <td>4174.532762</td>\n",
       "      <td>1</td>\n",
       "      <td>96</td>\n",
       "      <td>0</td>\n",
       "      <td>96</td>\n",
       "      <td>0.0</td>\n",
       "      <td>1</td>\n",
       "    </tr>\n",
       "    <tr>\n",
       "      <th>32668</th>\n",
       "      <td>1.049695</td>\n",
       "      <td>29</td>\n",
       "      <td>96</td>\n",
       "      <td>0.000000</td>\n",
       "      <td>2093.017921</td>\n",
       "      <td>0</td>\n",
       "      <td>96</td>\n",
       "      <td>0</td>\n",
       "      <td>96</td>\n",
       "      <td>2.0</td>\n",
       "      <td>1</td>\n",
       "    </tr>\n",
       "  </tbody>\n",
       "</table>\n",
       "</div>"
      ],
      "text/plain": [
       "       credit_card_utilization  age  overdue_30_59_days  debt_to_income  \\\n",
       "95569                 0.919807   47                  96        0.049223   \n",
       "13145                 0.901787   34                  96        0.000000   \n",
       "40552                 1.125812   26                  96        0.000000   \n",
       "33792                 1.202728   35                  96        0.005229   \n",
       "32668                 1.049695   29                  96        0.000000   \n",
       "\n",
       "       monthly_income  credits_loans  overdue__more_than_90_days  \\\n",
       "95569     4209.556675              0                          96   \n",
       "13145     3111.947063              0                          96   \n",
       "40552             NaN              1                          96   \n",
       "33792     4174.532762              1                          96   \n",
       "32668     2093.017921              0                          96   \n",
       "\n",
       "       mortgage_loans  overdue_60_89_days  family_members  Target  \n",
       "95569               0                  96             0.0       0  \n",
       "13145               0                  96             1.0       1  \n",
       "40552               0                  96             0.0       1  \n",
       "33792               0                  96             0.0       1  \n",
       "32668               0                  96             2.0       1  "
      ]
     },
     "metadata": {},
     "output_type": "display_data"
    },
    {
     "data": {
      "text/html": [
       "<div>\n",
       "<style scoped>\n",
       "    .dataframe tbody tr th:only-of-type {\n",
       "        vertical-align: middle;\n",
       "    }\n",
       "\n",
       "    .dataframe tbody tr th {\n",
       "        vertical-align: top;\n",
       "    }\n",
       "\n",
       "    .dataframe thead th {\n",
       "        text-align: right;\n",
       "    }\n",
       "</style>\n",
       "<table border=\"1\" class=\"dataframe\">\n",
       "  <thead>\n",
       "    <tr style=\"text-align: right;\">\n",
       "      <th></th>\n",
       "      <th>credit_card_utilization</th>\n",
       "      <th>age</th>\n",
       "      <th>overdue_30_59_days</th>\n",
       "      <th>debt_to_income</th>\n",
       "      <th>monthly_income</th>\n",
       "      <th>credits_loans</th>\n",
       "      <th>overdue__more_than_90_days</th>\n",
       "      <th>mortgage_loans</th>\n",
       "      <th>overdue_60_89_days</th>\n",
       "      <th>family_members</th>\n",
       "      <th>Target</th>\n",
       "    </tr>\n",
       "  </thead>\n",
       "  <tbody>\n",
       "    <tr>\n",
       "      <th>13362</th>\n",
       "      <td>1.054677</td>\n",
       "      <td>26</td>\n",
       "      <td>98</td>\n",
       "      <td>0.020530</td>\n",
       "      <td>2149.913622</td>\n",
       "      <td>0</td>\n",
       "      <td>98</td>\n",
       "      <td>0</td>\n",
       "      <td>98</td>\n",
       "      <td>0.0</td>\n",
       "      <td>0</td>\n",
       "    </tr>\n",
       "    <tr>\n",
       "      <th>43388</th>\n",
       "      <td>1.035168</td>\n",
       "      <td>49</td>\n",
       "      <td>98</td>\n",
       "      <td>0.000000</td>\n",
       "      <td>635.572017</td>\n",
       "      <td>1</td>\n",
       "      <td>98</td>\n",
       "      <td>0</td>\n",
       "      <td>98</td>\n",
       "      <td>0.0</td>\n",
       "      <td>1</td>\n",
       "    </tr>\n",
       "    <tr>\n",
       "      <th>97365</th>\n",
       "      <td>1.131380</td>\n",
       "      <td>26</td>\n",
       "      <td>98</td>\n",
       "      <td>0.000000</td>\n",
       "      <td>NaN</td>\n",
       "      <td>1</td>\n",
       "      <td>98</td>\n",
       "      <td>0</td>\n",
       "      <td>98</td>\n",
       "      <td>NaN</td>\n",
       "      <td>1</td>\n",
       "    </tr>\n",
       "    <tr>\n",
       "      <th>71634</th>\n",
       "      <td>0.902141</td>\n",
       "      <td>43</td>\n",
       "      <td>98</td>\n",
       "      <td>0.000000</td>\n",
       "      <td>NaN</td>\n",
       "      <td>1</td>\n",
       "      <td>98</td>\n",
       "      <td>0</td>\n",
       "      <td>98</td>\n",
       "      <td>0.0</td>\n",
       "      <td>1</td>\n",
       "    </tr>\n",
       "    <tr>\n",
       "      <th>92051</th>\n",
       "      <td>0.966968</td>\n",
       "      <td>24</td>\n",
       "      <td>98</td>\n",
       "      <td>0.000000</td>\n",
       "      <td>NaN</td>\n",
       "      <td>0</td>\n",
       "      <td>98</td>\n",
       "      <td>0</td>\n",
       "      <td>98</td>\n",
       "      <td>0.0</td>\n",
       "      <td>1</td>\n",
       "    </tr>\n",
       "    <tr>\n",
       "      <th>...</th>\n",
       "      <td>...</td>\n",
       "      <td>...</td>\n",
       "      <td>...</td>\n",
       "      <td>...</td>\n",
       "      <td>...</td>\n",
       "      <td>...</td>\n",
       "      <td>...</td>\n",
       "      <td>...</td>\n",
       "      <td>...</td>\n",
       "      <td>...</td>\n",
       "      <td>...</td>\n",
       "    </tr>\n",
       "    <tr>\n",
       "      <th>37313</th>\n",
       "      <td>1.020373</td>\n",
       "      <td>60</td>\n",
       "      <td>98</td>\n",
       "      <td>0.000000</td>\n",
       "      <td>NaN</td>\n",
       "      <td>0</td>\n",
       "      <td>98</td>\n",
       "      <td>0</td>\n",
       "      <td>98</td>\n",
       "      <td>0.0</td>\n",
       "      <td>1</td>\n",
       "    </tr>\n",
       "    <tr>\n",
       "      <th>21577</th>\n",
       "      <td>0.792687</td>\n",
       "      <td>42</td>\n",
       "      <td>98</td>\n",
       "      <td>0.000000</td>\n",
       "      <td>3591.912499</td>\n",
       "      <td>1</td>\n",
       "      <td>98</td>\n",
       "      <td>0</td>\n",
       "      <td>98</td>\n",
       "      <td>1.0</td>\n",
       "      <td>1</td>\n",
       "    </tr>\n",
       "    <tr>\n",
       "      <th>4942</th>\n",
       "      <td>1.063571</td>\n",
       "      <td>36</td>\n",
       "      <td>98</td>\n",
       "      <td>0.000000</td>\n",
       "      <td>1641.532810</td>\n",
       "      <td>1</td>\n",
       "      <td>98</td>\n",
       "      <td>0</td>\n",
       "      <td>98</td>\n",
       "      <td>1.0</td>\n",
       "      <td>0</td>\n",
       "    </tr>\n",
       "    <tr>\n",
       "      <th>39186</th>\n",
       "      <td>0.893989</td>\n",
       "      <td>29</td>\n",
       "      <td>98</td>\n",
       "      <td>0.000000</td>\n",
       "      <td>NaN</td>\n",
       "      <td>0</td>\n",
       "      <td>98</td>\n",
       "      <td>0</td>\n",
       "      <td>98</td>\n",
       "      <td>0.0</td>\n",
       "      <td>0</td>\n",
       "    </tr>\n",
       "    <tr>\n",
       "      <th>86283</th>\n",
       "      <td>0.788953</td>\n",
       "      <td>51</td>\n",
       "      <td>98</td>\n",
       "      <td>32.628896</td>\n",
       "      <td>NaN</td>\n",
       "      <td>1</td>\n",
       "      <td>98</td>\n",
       "      <td>0</td>\n",
       "      <td>98</td>\n",
       "      <td>0.0</td>\n",
       "      <td>0</td>\n",
       "    </tr>\n",
       "  </tbody>\n",
       "</table>\n",
       "<p>143 rows × 11 columns</p>\n",
       "</div>"
      ],
      "text/plain": [
       "       credit_card_utilization  age  overdue_30_59_days  debt_to_income  \\\n",
       "13362                 1.054677   26                  98        0.020530   \n",
       "43388                 1.035168   49                  98        0.000000   \n",
       "97365                 1.131380   26                  98        0.000000   \n",
       "71634                 0.902141   43                  98        0.000000   \n",
       "92051                 0.966968   24                  98        0.000000   \n",
       "...                        ...  ...                 ...             ...   \n",
       "37313                 1.020373   60                  98        0.000000   \n",
       "21577                 0.792687   42                  98        0.000000   \n",
       "4942                  1.063571   36                  98        0.000000   \n",
       "39186                 0.893989   29                  98        0.000000   \n",
       "86283                 0.788953   51                  98       32.628896   \n",
       "\n",
       "       monthly_income  credits_loans  overdue__more_than_90_days  \\\n",
       "13362     2149.913622              0                          98   \n",
       "43388      635.572017              1                          98   \n",
       "97365             NaN              1                          98   \n",
       "71634             NaN              1                          98   \n",
       "92051             NaN              0                          98   \n",
       "...               ...            ...                         ...   \n",
       "37313             NaN              0                          98   \n",
       "21577     3591.912499              1                          98   \n",
       "4942      1641.532810              1                          98   \n",
       "39186             NaN              0                          98   \n",
       "86283             NaN              1                          98   \n",
       "\n",
       "       mortgage_loans  overdue_60_89_days  family_members  Target  \n",
       "13362               0                  98             0.0       0  \n",
       "43388               0                  98             0.0       1  \n",
       "97365               0                  98             NaN       1  \n",
       "71634               0                  98             0.0       1  \n",
       "92051               0                  98             0.0       1  \n",
       "...               ...                 ...             ...     ...  \n",
       "37313               0                  98             0.0       1  \n",
       "21577               0                  98             1.0       1  \n",
       "4942                0                  98             1.0       0  \n",
       "39186               0                  98             0.0       0  \n",
       "86283               0                  98             0.0       0  \n",
       "\n",
       "[143 rows x 11 columns]"
      ]
     },
     "metadata": {},
     "output_type": "display_data"
    }
   ],
   "source": [
    "display(X_train[X_train['overdue_30_59_days'] == 96])\n",
    "display(X_train[X_train['overdue_30_59_days'] == 98])"
   ]
  },
  {
   "cell_type": "markdown",
   "metadata": {
    "id": "rdY_192Z8v30"
   },
   "source": [
    "Таких больших значений довольно много, а выглядят они неправдаподобно. Уберем их."
   ]
  },
  {
   "cell_type": "code",
   "execution_count": 75,
   "metadata": {
    "id": "zUN_38Je8vAo"
   },
   "outputs": [],
   "source": [
    "X_train = X_train.loc[X_train['overdue_30_59_days'] <13]"
   ]
  },
  {
   "cell_type": "markdown",
   "metadata": {
    "id": "BMwSgOGC86-i"
   },
   "source": [
    "Аналогично посмотрим другие просрочки. Как видно, тут выбросов нет."
   ]
  },
  {
   "cell_type": "code",
   "execution_count": 76,
   "metadata": {
    "colab": {
     "base_uri": "https://localhost:8080/"
    },
    "id": "lvEDkjJKu6MM",
    "outputId": "776b451b-67bc-46f1-d642-8e65e64962c3"
   },
   "outputs": [
    {
     "data": {
      "text/plain": [
       "array([ 0,  1,  2,  3,  4,  5,  6,  7,  8,  9, 11])"
      ]
     },
     "execution_count": 76,
     "metadata": {},
     "output_type": "execute_result"
    }
   ],
   "source": [
    "np.sort(X_train['overdue_60_89_days'].unique())"
   ]
  },
  {
   "cell_type": "code",
   "execution_count": 77,
   "metadata": {
    "colab": {
     "base_uri": "https://localhost:8080/"
    },
    "id": "GHYva616vBW-",
    "outputId": "6de34a1c-7049-4392-eac6-a855ed49315c"
   },
   "outputs": [
    {
     "data": {
      "text/plain": [
       "array([ 0,  1,  2,  3,  4,  5,  6,  7,  8,  9, 10, 12, 13])"
      ]
     },
     "execution_count": 77,
     "metadata": {},
     "output_type": "execute_result"
    }
   ],
   "source": [
    "np.sort(X_train['overdue__more_than_90_days'].unique())"
   ]
  },
  {
   "cell_type": "markdown",
   "metadata": {
    "id": "ShNsOpl-vJXz"
   },
   "source": [
    "**Изучаем debt_to_income**"
   ]
  },
  {
   "cell_type": "markdown",
   "metadata": {
    "id": "Wwvz_HBe9qDG"
   },
   "source": [
    "Очень странно, что много людей с долгом в тысячи раз больше их дохода. Пока не очень понятно, что с этим делать. Еще проверим на пропуски."
   ]
  },
  {
   "cell_type": "code",
   "execution_count": 78,
   "metadata": {
    "colab": {
     "base_uri": "https://localhost:8080/"
    },
    "id": "bJZZyQxa2knu",
    "outputId": "6e8a166c-52fa-418b-bd2f-9c4dcfddd4cd"
   },
   "outputs": [
    {
     "data": {
      "text/plain": [
       "0"
      ]
     },
     "execution_count": 78,
     "metadata": {},
     "output_type": "execute_result"
    }
   ],
   "source": [
    "X_train['debt_to_income'].isna().sum()"
   ]
  },
  {
   "cell_type": "code",
   "execution_count": 79,
   "metadata": {
    "colab": {
     "base_uri": "https://localhost:8080/"
    },
    "id": "0XQ_UHRU9uOM",
    "outputId": "13a5eb75-be3b-4d44-a28e-35fa7139a2de"
   },
   "outputs": [
    {
     "data": {
      "text/plain": [
       "(2907, 11)"
      ]
     },
     "execution_count": 79,
     "metadata": {},
     "output_type": "execute_result"
    }
   ],
   "source": [
    "X_train[X_train['debt_to_income'] > 3000].shape"
   ]
  },
  {
   "cell_type": "code",
   "execution_count": 80,
   "metadata": {
    "colab": {
     "base_uri": "https://localhost:8080/",
     "height": 265
    },
    "id": "t88iVe0y-QAg",
    "outputId": "398fc267-102a-44be-e51a-d4471e9da6de"
   },
   "outputs": [
    {
     "data": {
      "image/png": "[encoded data removed]",
      "text/plain": [
       "<Figure size 432x288 with 1 Axes>"
      ]
     },
     "metadata": {
      "needs_background": "light"
     },
     "output_type": "display_data"
    }
   ],
   "source": [
    "plt.hist(X_train['debt_to_income'], bins = 50)\n",
    "plt.show()"
   ]
  },
  {
   "cell_type": "markdown",
   "metadata": {
    "id": "0bZZeMmv_kAp"
   },
   "source": [
    "На графике большие значения почти даже не видно. К тому же они не выглядят правдоподобными. Были попытки отсечь большие значения, но на работе модели они почти никак не отразились, а в большинстве случаев вообще качество модели ухудшалось, поэтому было принято решение оставить всё как есть."
   ]
  },
  {
   "cell_type": "markdown",
   "metadata": {
    "id": "52pUE9yGxglq"
   },
   "source": [
    "**Изучаем monthly_income**"
   ]
  },
  {
   "cell_type": "markdown",
   "metadata": {
    "id": "Yp0j-RQsAhmp"
   },
   "source": [
    "Проверим пропуски."
   ]
  },
  {
   "cell_type": "code",
   "execution_count": 81,
   "metadata": {
    "colab": {
     "base_uri": "https://localhost:8080/"
    },
    "id": "26yrUyCC17Dw",
    "outputId": "d6b72e0b-f000-45e1-94dd-28ae5f9ca5e5"
   },
   "outputs": [
    {
     "data": {
      "text/plain": [
       "16629"
      ]
     },
     "execution_count": 81,
     "metadata": {},
     "output_type": "execute_result"
    }
   ],
   "source": [
    "X_train['monthly_income'].isna().sum()"
   ]
  },
  {
   "cell_type": "code",
   "execution_count": 82,
   "metadata": {
    "colab": {
     "base_uri": "https://localhost:8080/",
     "height": 295
    },
    "id": "HYvtWNh5xvaR",
    "outputId": "b1688baa-c356-41af-865d-28f144a3da34"
   },
   "outputs": [
    {
     "name": "stdout",
     "output_type": "stream",
     "text": [
      "Количество людей, зарабатывающих больше 100.000: 44\n"
     ]
    },
    {
     "data": {
      "image/png": "[encoded data removed]",
      "text/plain": [
       "<Figure size 432x288 with 1 Axes>"
      ]
     },
     "metadata": {
      "needs_background": "light"
     },
     "output_type": "display_data"
    }
   ],
   "source": [
    "#Не так много богатых людей, они особо не будут влиять на модель, поэтому ничего с ними делать не будем\n",
    "print('Количество людей, зарабатывающих больше 100.000:', X_train[X_train['monthly_income']>100000]['monthly_income'].count())\n",
    "\n",
    "h = X_train[X_train['monthly_income']>100000]['monthly_income'].hist()\n",
    "fig = h.get_figure()"
   ]
  },
  {
   "cell_type": "markdown",
   "metadata": {
    "id": "SxR7dT3WDFe2"
   },
   "source": [
    "Есть очень много пропусков. Их можно заполнить медианой/средним/нулем. В результате исследования обнаружилось, что модель работает лучше, если заполнять пропуски медианным значением."
   ]
  },
  {
   "cell_type": "code",
   "execution_count": 83,
   "metadata": {
    "colab": {
     "base_uri": "https://localhost:8080/"
    },
    "id": "fOv1SDO62yqw",
    "outputId": "1bd7ca4e-7c22-4c7e-eac9-9b705bf1da2f"
   },
   "outputs": [
    {
     "name": "stdout",
     "output_type": "stream",
     "text": [
      "Медианное значение месячного дохода: 5350.081385873237\n"
     ]
    }
   ],
   "source": [
    "median_income = X_train['monthly_income'].median()\n",
    "X_train['monthly_income'] = X_train['monthly_income'].fillna(median_income)\n",
    "print('Медианное значение месячного дохода:', median_income)"
   ]
  },
  {
   "cell_type": "markdown",
   "metadata": {
    "id": "gvFMApFq4Tdh"
   },
   "source": [
    "**Изучаем credits_loans**\n",
    "\n"
   ]
  },
  {
   "cell_type": "code",
   "execution_count": 84,
   "metadata": {
    "colab": {
     "base_uri": "https://localhost:8080/"
    },
    "id": "BHt3vvWB4b0A",
    "outputId": "3202b3f3-fadb-46d2-c1c3-8235c27fa5d5"
   },
   "outputs": [
    {
     "name": "stdout",
     "output_type": "stream",
     "text": [
      "[ 0  1  2  3  4  5  6  7  8  9 10 11 12 13 14 15 16 17 18 19 20 21 22 23\n",
      " 24 25 26 27 28 29 30 31 32 33 34 35 36 37 38 39 40 41 42 43 44 45 46 47\n",
      " 48 49 50 51 52 53 54 55 57 58]\n",
      "Количество людей, у которых больше 25 кредитов: 737\n"
     ]
    }
   ],
   "source": [
    "print(np.sort(X_train['credits_loans'].unique()))\n",
    "print('Количество людей, у которых больше 25 кредитов:', X_train[X_train['credits_loans'] >25]['credits_loans'].count())"
   ]
  },
  {
   "cell_type": "code",
   "execution_count": 85,
   "metadata": {
    "colab": {
     "base_uri": "https://localhost:8080/"
    },
    "id": "a_U8fVtB5SWp",
    "outputId": "ebea0370-e6f4-4326-dd24-dcd38f235661"
   },
   "outputs": [
    {
     "data": {
      "text/plain": [
       "737"
      ]
     },
     "execution_count": 85,
     "metadata": {},
     "output_type": "execute_result"
    }
   ],
   "source": [
    "X_train[X_train['credits_loans'] >25]['credits_loans'].count()"
   ]
  },
  {
   "cell_type": "markdown",
   "metadata": {
    "id": "NHr4QmODIGNq"
   },
   "source": [
    "Есть люди, у которых очень много кредитов. Как показывает практика, это будет портить модель, поэтому, чтобы убрать выбросы, но не убирать слишком много, оставим количество кредитов меньше 26."
   ]
  },
  {
   "cell_type": "code",
   "execution_count": 86,
   "metadata": {
    "colab": {
     "base_uri": "https://localhost:8080/"
    },
    "id": "PSu2MRBY50iO",
    "outputId": "e7e2a0fd-02d1-440d-b488-aa193be2ffcd"
   },
   "outputs": [
    {
     "data": {
      "text/plain": [
       "(83038, 11)"
      ]
     },
     "execution_count": 86,
     "metadata": {},
     "output_type": "execute_result"
    }
   ],
   "source": [
    "X_train = X_train[X_train['credits_loans'] <= 25]\n",
    "X_train.shape"
   ]
  },
  {
   "cell_type": "markdown",
   "metadata": {
    "id": "nu5Zhy6o6LJu"
   },
   "source": [
    "**Изучаем mortgage_loans**"
   ]
  },
  {
   "cell_type": "markdown",
   "metadata": {
    "id": "lVAjihcHJIY9"
   },
   "source": [
    "Здесь ситуация ровно такая же, как и в предыдущем пункте. Только тут оставимим пороговое значение 5."
   ]
  },
  {
   "cell_type": "code",
   "execution_count": 87,
   "metadata": {
    "colab": {
     "base_uri": "https://localhost:8080/"
    },
    "id": "aoPfNn4X6hkU",
    "outputId": "7e96e5f6-3701-4abe-aa08-42919bec5750"
   },
   "outputs": [
    {
     "data": {
      "text/plain": [
       "array([ 0,  1,  2,  4,  3,  5,  9,  6,  7,  8, 10, 13, 11, 12, 20, 14, 17,\n",
       "       15])"
      ]
     },
     "execution_count": 87,
     "metadata": {},
     "output_type": "execute_result"
    }
   ],
   "source": [
    "X_train['mortgage_loans'].unique()\n"
   ]
  },
  {
   "cell_type": "code",
   "execution_count": 88,
   "metadata": {
    "colab": {
     "base_uri": "https://localhost:8080/"
    },
    "id": "8E0owF9I7SaL",
    "outputId": "9ce6c9c7-5caa-4443-f36d-ff939c20ed14"
   },
   "outputs": [
    {
     "data": {
      "text/plain": [
       "374"
      ]
     },
     "execution_count": 88,
     "metadata": {},
     "output_type": "execute_result"
    }
   ],
   "source": [
    "X_train[X_train['mortgage_loans'] >5]['mortgage_loans'].count()"
   ]
  },
  {
   "cell_type": "code",
   "execution_count": 89,
   "metadata": {
    "colab": {
     "base_uri": "https://localhost:8080/"
    },
    "id": "t9K3A4-18WnZ",
    "outputId": "2ba1b76f-da6e-4385-d9dc-c7d7c0ca5a23"
   },
   "outputs": [
    {
     "data": {
      "text/plain": [
       "(82664, 11)"
      ]
     },
     "execution_count": 89,
     "metadata": {},
     "output_type": "execute_result"
    }
   ],
   "source": [
    "X_train = X_train[X_train['mortgage_loans'] <= 5]\n",
    "X_train.shape"
   ]
  },
  {
   "cell_type": "markdown",
   "metadata": {
    "id": "WN8lkc0W8h5D"
   },
   "source": [
    "**Изучаем family_members**"
   ]
  },
  {
   "cell_type": "markdown",
   "metadata": {
    "id": "i6AZ6gEhKwnD"
   },
   "source": [
    "Есть какое-то количество значений nan. Логично предположить, что люди не указывают количество членов семьи, если их нет, поэтому заполним нулями."
   ]
  },
  {
   "cell_type": "code",
   "execution_count": 90,
   "metadata": {
    "colab": {
     "base_uri": "https://localhost:8080/"
    },
    "id": "7Ds425kz9rWy",
    "outputId": "78ec7c43-d894-4331-e830-26cc7976b756"
   },
   "outputs": [
    {
     "data": {
      "text/plain": [
       "array([ 0.,  1.,  2.,  3.,  4.,  5.,  6.,  7.,  8.,  9., 10., 13., 20.,\n",
       "       nan])"
      ]
     },
     "execution_count": 90,
     "metadata": {},
     "output_type": "execute_result"
    }
   ],
   "source": [
    "np.sort(X_train['family_members'].unique())"
   ]
  },
  {
   "cell_type": "code",
   "execution_count": 91,
   "metadata": {
    "colab": {
     "base_uri": "https://localhost:8080/"
    },
    "id": "1-inGfeT9wuw",
    "outputId": "ee236c70-3fd8-40ea-b8af-00f35acf22db"
   },
   "outputs": [
    {
     "data": {
      "text/plain": [
       "2223"
      ]
     },
     "execution_count": 91,
     "metadata": {},
     "output_type": "execute_result"
    }
   ],
   "source": [
    "X_train['family_members'].isna().sum()"
   ]
  },
  {
   "cell_type": "code",
   "execution_count": 92,
   "metadata": {
    "id": "cEGyPTOa92Yh"
   },
   "outputs": [],
   "source": [
    "X_train['family_members'] = X_train['family_members'].fillna(0)"
   ]
  },
  {
   "cell_type": "code",
   "execution_count": 93,
   "metadata": {
    "colab": {
     "base_uri": "https://localhost:8080/",
     "height": 386
    },
    "id": "Z8D20nB28ou2",
    "outputId": "728fe09c-5333-4ef3-98a9-dec182ab53a1"
   },
   "outputs": [
    {
     "data": {
      "text/plain": [
       "<seaborn.axisgrid.FacetGrid at 0x7f77ca0f5eb0>"
      ]
     },
     "execution_count": 93,
     "metadata": {},
     "output_type": "execute_result"
    },
    {
     "data": {
      "image/png": "[encoded data removed]",
      "text/plain": [
       "<Figure size 360x360 with 1 Axes>"
      ]
     },
     "metadata": {
      "needs_background": "light"
     },
     "output_type": "display_data"
    }
   ],
   "source": [
    "sns.displot(X_train['family_members'], bins = 21, color = \"red\")"
   ]
  },
  {
   "cell_type": "markdown",
   "metadata": {
    "id": "dT1bCyAwLHdE"
   },
   "source": [
    "Видно, что после 5 членов семьи мало людей, имеющих большее количество членов семьи. Поэтому можно убрать значения большие 5."
   ]
  },
  {
   "cell_type": "code",
   "execution_count": 94,
   "metadata": {
    "colab": {
     "base_uri": "https://localhost:8080/"
    },
    "id": "2T76OhDd-_A7",
    "outputId": "0f58e295-7d56-4937-c733-85786ca0b9da"
   },
   "outputs": [
    {
     "data": {
      "text/plain": [
       "561"
      ]
     },
     "execution_count": 94,
     "metadata": {},
     "output_type": "execute_result"
    }
   ],
   "source": [
    "X_train[X_train['family_members'] >= 5]['family_members'].count()"
   ]
  },
  {
   "cell_type": "code",
   "execution_count": 95,
   "metadata": {
    "colab": {
     "base_uri": "https://localhost:8080/"
    },
    "id": "zxHLNHYY_XyV",
    "outputId": "c590f2b1-bbbb-4940-cc69-28c919e133b0"
   },
   "outputs": [
    {
     "data": {
      "text/plain": [
       "(82103, 11)"
      ]
     },
     "execution_count": 95,
     "metadata": {},
     "output_type": "execute_result"
    }
   ],
   "source": [
    "X_train = X_train[X_train['family_members'] <= 4]\n",
    "X_train.shape"
   ]
  },
  {
   "cell_type": "code",
   "execution_count": 96,
   "metadata": {
    "id": "mye0568D-r5q"
   },
   "outputs": [],
   "source": [
    "X_train['family_members'] = X_train['family_members'].astype(\"int64\")\n",
    "#Приведем всё к типу данных int"
   ]
  },
  {
   "cell_type": "markdown",
   "metadata": {
    "id": "GNjAZdXGL9vq"
   },
   "source": [
    "*Теперь отбросим колонку target, которая будет y_train после этого*"
   ]
  },
  {
   "cell_type": "code",
   "execution_count": 97,
   "metadata": {
    "colab": {
     "base_uri": "https://localhost:8080/"
    },
    "id": "6WIlxJdbRThe",
    "outputId": "10f08d5e-3a2c-49af-d170-b3c76741a531"
   },
   "outputs": [
    {
     "data": {
      "text/plain": [
       "0    76776\n",
       "1     5327\n",
       "Name: Target, dtype: int64"
      ]
     },
     "execution_count": 97,
     "metadata": {},
     "output_type": "execute_result"
    }
   ],
   "source": [
    "X_train_final = X_train.drop(columns = 'Target')\n",
    "y_train_final = X_train['Target']\n",
    "y_train_final.value_counts()"
   ]
  },
  {
   "cell_type": "markdown",
   "metadata": {
    "id": "JtJY0dm_skSD"
   },
   "source": [
    "# Выбор наилучшей модели\n"
   ]
  },
  {
   "cell_type": "markdown",
   "metadata": {
    "id": "ruF-Jd1ANzTt"
   },
   "source": [
    "Заполним пропущенные значения месячного дохода и количества членов семьи, как это было сделано на X_train"
   ]
  },
  {
   "cell_type": "code",
   "execution_count": 98,
   "metadata": {
    "colab": {
     "base_uri": "https://localhost:8080/"
    },
    "id": "KxotuBSiva7n",
    "outputId": "90c2b45c-886c-4f46-ec50-b409e936d4b2"
   },
   "outputs": [
    {
     "data": {
      "text/plain": [
       "(82103, 11)"
      ]
     },
     "execution_count": 98,
     "metadata": {},
     "output_type": "execute_result"
    }
   ],
   "source": [
    "X_test.head()\n",
    "X_train.shape"
   ]
  },
  {
   "cell_type": "code",
   "execution_count": 99,
   "metadata": {
    "colab": {
     "base_uri": "https://localhost:8080/"
    },
    "id": "P81iv_R40cu0",
    "outputId": "0c6ccf38-f2c7-41fd-bbc4-3d1d27b44e0a"
   },
   "outputs": [
    {
     "name": "stdout",
     "output_type": "stream",
     "text": [
      "Значение медианной зарплаты: 5418.243723646463\n"
     ]
    }
   ],
   "source": [
    "median_income_test = X_test['monthly_income'].median()\n",
    "X_test['monthly_income'] = X_test['monthly_income'].fillna(median_income_test)\n",
    "print('Значение медианной зарплаты:', median_income_test)"
   ]
  },
  {
   "cell_type": "code",
   "execution_count": 100,
   "metadata": {
    "id": "C5_lqStO1lJT"
   },
   "outputs": [],
   "source": [
    "X_test['family_members'] = X_test['family_members'].fillna(0)"
   ]
  },
  {
   "cell_type": "code",
   "execution_count": 101,
   "metadata": {
    "colab": {
     "base_uri": "https://localhost:8080/"
    },
    "id": "JEDoSpwM1RBC",
    "outputId": "d36cc93a-0c01-45e1-8e41-03ba4a63cc1c"
   },
   "outputs": [
    {
     "data": {
      "text/plain": [
       "credit_card_utilization       0\n",
       "age                           0\n",
       "overdue_30_59_days            0\n",
       "debt_to_income                0\n",
       "monthly_income                0\n",
       "credits_loans                 0\n",
       "overdue__more_than_90_days    0\n",
       "mortgage_loans                0\n",
       "overdue_60_89_days            0\n",
       "family_members                0\n",
       "dtype: int64"
      ]
     },
     "execution_count": 101,
     "metadata": {},
     "output_type": "execute_result"
    }
   ],
   "source": [
    "X_test.isna().sum()"
   ]
  },
  {
   "cell_type": "markdown",
   "metadata": {
    "id": "TSpyM0cKToLX"
   },
   "source": [
    "**RandomForest**"
   ]
  },
  {
   "cell_type": "markdown",
   "metadata": {
    "id": "axBaaIGUdr6T"
   },
   "source": [
    "RandomForestClassifier - модель, показавшая один из наилучших результатов. Предсказывать класс можно по predict_proba."
   ]
  },
  {
   "cell_type": "code",
   "execution_count": 10,
   "metadata": {
    "id": "bjjQadxbTrLZ"
   },
   "outputs": [],
   "source": [
    "from sklearn.metrics import roc_auc_score, accuracy_score, precision_score, recall_score, f1_score, roc_curve\n",
    "from sklearn.ensemble import RandomForestClassifier\n",
    "from sklearn.model_selection import GridSearchCV"
   ]
  },
  {
   "cell_type": "markdown",
   "metadata": {
    "id": "v5XXZ6SRehN7"
   },
   "source": [
    "Выбираем наилучшие параметры для модели."
   ]
  },
  {
   "cell_type": "code",
   "execution_count": 102,
   "metadata": {
    "colab": {
     "base_uri": "https://localhost:8080/"
    },
    "id": "T_qsfQgDTWGn",
    "outputId": "0bf9096b-a613-4a6e-9dbc-6b326e419795"
   },
   "outputs": [
    {
     "data": {
      "text/plain": [
       "{'min_samples_leaf': 3, 'min_samples_split': 2, 'n_estimators': 40}"
      ]
     },
     "execution_count": 102,
     "metadata": {},
     "output_type": "execute_result"
    }
   ],
   "source": [
    "parametrs_RFC = { 'n_estimators': range (10, 41, 10),\n",
    "              'min_samples_leaf': range (1,4),\n",
    "              'min_samples_split': range (2,6,2) }\n",
    "\n",
    "\n",
    "grid_RFC = GridSearchCV(RandomForestClassifier(), parametrs_RFC, cv=5, scoring='roc_auc')\n",
    "grid_RFC.fit(X_train_final, y_train_final)\n",
    "\n",
    "grid_RFC.best_params_"
   ]
  },
  {
   "cell_type": "markdown",
   "metadata": {},
   "source": [
    "Создаем модель с лучшими гиперпараметрами, фитим, предиктим."
   ]
  },
  {
   "cell_type": "code",
   "execution_count": 110,
   "metadata": {
    "id": "futO59mWTwQe"
   },
   "outputs": [],
   "source": [
    "RFC_model = RandomForestClassifier(min_samples_leaf = 3, min_samples_split = 2, n_estimators = 40)\n",
    "RFC_model.fit(X_train_final, y_train_final)\n",
    "RFC_y_pred_proba = RFC_model.predict_proba(X_test)[:,1]\n",
    "RFC_y_pred = RFC_model.predict(X_test)"
   ]
  },
  {
   "cell_type": "markdown",
   "metadata": {},
   "source": [
    "Сохраним метрики на будущее. Посмотрим только на ROC AUC, ведь это наш основной показатель"
   ]
  },
  {
   "cell_type": "code",
   "execution_count": 163,
   "metadata": {
    "id": "Zt6I1oCYmrmn"
   },
   "outputs": [],
   "source": [
    "#Нахождение метрик\n",
    "ROC_AUC_RFC = roc_auc_score(y_test, RFC_y_pred_proba)\n",
    "accuracy_RFC = accuracy_score(y_test, RFC_y_pred)\n",
    "recall_RFC = recall_score(y_test, RFC_y_pred)\n",
    "precision_RFC = precision_score(y_test, RFC_y_pred)\n",
    "f1_RFC = f1_score(y_test, RFC_y_pred)"
   ]
  },
  {
   "cell_type": "code",
   "execution_count": 164,
   "metadata": {},
   "outputs": [
    {
     "data": {
      "image/png": "[encoded data removed]",
      "text/plain": [
       "<Figure size 432x288 with 1 Axes>"
      ]
     },
     "metadata": {
      "needs_background": "light"
     },
     "output_type": "display_data"
    },
    {
     "name": "stdout",
     "output_type": "stream",
     "text": [
      "RandomForest ROC AUC = 0.8458386640290055\n"
     ]
    }
   ],
   "source": [
    "FP_RFC, TP_RFC, _ = roc_curve(y_test, RFC_y_pred_proba)\n",
    "plt.title('ROC Curve RFC')\n",
    "plt.plot(FP_RFC, TP_RFC)\n",
    "\n",
    "plt.ylabel('True Positive rate')\n",
    "plt.xlabel('False Positive rate')\n",
    "\n",
    "plt.show()\n",
    "print('RandomForest ROC AUC =', ROC_AUC_RFC)"
   ]
  },
  {
   "cell_type": "markdown",
   "metadata": {
    "id": "wqf4W7VNa934"
   },
   "source": [
    "**HGBoost**"
   ]
  },
  {
   "cell_type": "markdown",
   "metadata": {
    "id": "5bInsezte8Rk"
   },
   "source": [
    "Данный классификатор, являющийся ускоренной версией GBClassifier, показал себя лучше всего, его и будем использовать для предсказания."
   ]
  },
  {
   "cell_type": "code",
   "execution_count": 113,
   "metadata": {
    "id": "Hpd5AJOzbKKj"
   },
   "outputs": [],
   "source": [
    "from sklearn.ensemble import HistGradientBoostingClassifier"
   ]
  },
  {
   "cell_type": "markdown",
   "metadata": {
    "id": "4OAXkmKSfJBp"
   },
   "source": [
    "Находим лучшие параметры. А дельше действуем точно так же, как и с RandomForest"
   ]
  },
  {
   "cell_type": "code",
   "execution_count": 117,
   "metadata": {
    "colab": {
     "base_uri": "https://localhost:8080/"
    },
    "id": "Kzno7tMLbQ5z",
    "outputId": "fbdb0493-4ca1-47df-b40d-8d89d6577f81"
   },
   "outputs": [
    {
     "data": {
      "text/plain": [
       "{'learning_rate': 0.1, 'max_leaf_nodes': 20, 'min_samples_leaf': 25}"
      ]
     },
     "execution_count": 117,
     "metadata": {},
     "output_type": "execute_result"
    }
   ],
   "source": [
    "parametrs_HGB = {'learning_rate': [0.1, 0.2, 0.4, 0.6, 0.8, 1, 1.2, 1.4, 1.6, 1.8, 2],\n",
    "                'max_leaf_nodes': range (10,40,10),\n",
    "                'min_samples_leaf': range (10,30,5) }\n",
    "\n",
    "\n",
    "grid_HGB = GridSearchCV(HistGradientBoostingClassifier(), parametrs_HGB, cv=5, scoring='roc_auc')\n",
    "grid_HGB.fit(X_train_final, y_train_final)\n",
    "\n",
    "grid_HGB.best_params_"
   ]
  },
  {
   "cell_type": "code",
   "execution_count": 168,
   "metadata": {
    "id": "GE9SZr5Ja9MI"
   },
   "outputs": [],
   "source": [
    "HGB_model = HistGradientBoostingClassifier(learning_rate=0.08, max_leaf_nodes = 15, min_samples_leaf = 15 )\n",
    "HGB_model.fit(X_train_final, y_train_final)\n",
    "HGB_y_pred_proba = HGB_model.predict_proba(X_test)[:, 1]\n",
    "HGB_y_pred = HGB_model.predict(X_test)"
   ]
  },
  {
   "cell_type": "code",
   "execution_count": 169,
   "metadata": {},
   "outputs": [],
   "source": [
    "#Нахождение метрик\n",
    "ROC_AUC_HGB = roc_auc_score(y_test, HGB_y_pred_proba)\n",
    "accuracy_HGB = accuracy_score(y_test, HGB_y_pred)\n",
    "recall_HGB = recall_score(y_test, HGB_y_pred)\n",
    "precision_HGB = precision_score(y_test, HGB_y_pred)\n",
    "f1_HGB = f1_score(y_test, HGB_y_pred)"
   ]
  },
  {
   "cell_type": "code",
   "execution_count": 170,
   "metadata": {},
   "outputs": [
    {
     "data": {
      "image/png": "[encoded data removed]",
      "text/plain": [
       "<Figure size 432x288 with 1 Axes>"
      ]
     },
     "metadata": {
      "needs_background": "light"
     },
     "output_type": "display_data"
    },
    {
     "name": "stdout",
     "output_type": "stream",
     "text": [
      "HGB ROC AUC = 0.8669991190914917\n"
     ]
    }
   ],
   "source": [
    "FP_HGB, TP_HGB, _ = roc_curve(y_test, HGB_y_pred_proba)\n",
    "plt.title('ROC Curve HGB')\n",
    "plt.plot(FP_HGB, TP_HGB)\n",
    "\n",
    "plt.ylabel('True Positive rate')\n",
    "plt.xlabel('False Positive rate')\n",
    "\n",
    "plt.show()\n",
    "print('HGB ROC AUC =', ROC_AUC_HGB)"
   ]
  },
  {
   "cell_type": "markdown",
   "metadata": {},
   "source": [
    "**KNN**"
   ]
  },
  {
   "cell_type": "markdown",
   "metadata": {},
   "source": [
    "KNN показал себя в целом плохо. Отличие от других моделей в том, что нужно скейлить данные. Создаем и оцениваем модель по пайплайну, как с RandomForest."
   ]
  },
  {
   "cell_type": "code",
   "execution_count": 23,
   "metadata": {},
   "outputs": [],
   "source": [
    "from sklearn.neighbors import KNeighborsClassifier\n",
    "from sklearn.preprocessing import StandardScaler"
   ]
  },
  {
   "cell_type": "code",
   "execution_count": 24,
   "metadata": {},
   "outputs": [],
   "source": [
    "SS = StandardScaler()\n",
    "SS.fit(X_train_final)\n",
    "X_train_final_SS = SS.transform(X_train_final)\n",
    "X_test_SS = SS.transform(X_test)"
   ]
  },
  {
   "cell_type": "code",
   "execution_count": 164,
   "metadata": {},
   "outputs": [
    {
     "data": {
      "text/plain": [
       "{'n_neighbors': 9}"
      ]
     },
     "execution_count": 164,
     "metadata": {},
     "output_type": "execute_result"
    }
   ],
   "source": [
    "parametrs_KNN = {'n_neighbors': range (1,10,1)}\n",
    "\n",
    "\n",
    "grid_KNN = GridSearchCV(KNeighborsClassifier(), parametrs_KNN, cv=5, scoring='roc_auc')\n",
    "grid_KNN.fit(X_train_final_SS, y_train_final)\n",
    "\n",
    "grid_KNN.best_params_"
   ]
  },
  {
   "cell_type": "code",
   "execution_count": 25,
   "metadata": {},
   "outputs": [],
   "source": [
    "KNN_model = KNeighborsClassifier(n_neighbors = 9)\n",
    "KNN_model.fit(X_train_final_SS, y_train_final)\n",
    "KNN_y_pred_proba = KNN_model.predict_proba(X_test_SS)[:, 1]\n",
    "KNN_y_pred = KNN_model.predict(X_test_SS)"
   ]
  },
  {
   "cell_type": "code",
   "execution_count": 26,
   "metadata": {},
   "outputs": [],
   "source": [
    "#Нахождение метрик\n",
    "ROC_AUC_KNN = roc_auc_score(y_test, KNN_y_pred_proba)\n",
    "accuracy_KNN = accuracy_score(y_test, KNN_y_pred)\n",
    "recall_KNN = recall_score(y_test, KNN_y_pred)\n",
    "precision_KNN = precision_score(y_test, KNN_y_pred)\n",
    "f1_KNN = f1_score(y_test, KNN_y_pred)"
   ]
  },
  {
   "cell_type": "code",
   "execution_count": 27,
   "metadata": {},
   "outputs": [
    {
     "data": {
      "image/png": "[encoded data removed]",
      "text/plain": [
       "<Figure size 432x288 with 1 Axes>"
      ]
     },
     "metadata": {
      "needs_background": "light"
     },
     "output_type": "display_data"
    },
    {
     "name": "stdout",
     "output_type": "stream",
     "text": [
      "KNN ROC AUC = 0.711056018170742\n"
     ]
    }
   ],
   "source": [
    "FP_KNN, TP_KNN, _ = roc_curve(y_test, KNN_y_pred_proba)\n",
    "plt.title('ROC Curve KNN')\n",
    "plt.plot(FP_KNN, TP_KNN)\n",
    "\n",
    "plt.ylabel('True Positive rate')\n",
    "plt.xlabel('False Positive rate')\n",
    "\n",
    "plt.show()\n",
    "print('KNN ROC AUC =', ROC_AUC_KNN)"
   ]
  },
  {
   "cell_type": "markdown",
   "metadata": {},
   "source": [
    "**Logistic Regression**"
   ]
  },
  {
   "cell_type": "markdown",
   "metadata": {},
   "source": [
    "Логистическая регрессия показала себя нормально, но хуже RF и градиентного бустинга. Создаем и оцениваем модель по пайплайну, как с RandomForest."
   ]
  },
  {
   "cell_type": "code",
   "execution_count": 54,
   "metadata": {},
   "outputs": [],
   "source": [
    "from sklearn.linear_model import LogisticRegression"
   ]
  },
  {
   "cell_type": "code",
   "execution_count": 185,
   "metadata": {},
   "outputs": [
    {
     "data": {
      "text/plain": [
       "{'C': 0.1, 'penalty': 'l2'}"
      ]
     },
     "execution_count": 185,
     "metadata": {},
     "output_type": "execute_result"
    }
   ],
   "source": [
    "parametrs_LR = { 'penalty': ['l1', 'l2', 'elasticnet', 'none'],\n",
    "                'C': [0.1, 0.2, 0.4, 0.6, 0.8, 1] }\n",
    "\n",
    "\n",
    "grid_LR = GridSearchCV(LogisticRegression(), parametrs_LR, cv=5, scoring='roc_auc')\n",
    "grid_LR.fit(X_train_final, y_train_final)\n",
    "\n",
    "grid_LR.best_params_"
   ]
  },
  {
   "cell_type": "code",
   "execution_count": 55,
   "metadata": {},
   "outputs": [],
   "source": [
    "LR_model = LogisticRegression(C=0.1, penalty = 'l2')\n",
    "LR_model.fit(X_train_final, y_train_final)\n",
    "LR_y_pred_proba = LR_model.predict_proba(X_test)[:, 1]\n",
    "LR_y_pred = LR_model.predict(X_test)"
   ]
  },
  {
   "cell_type": "code",
   "execution_count": 56,
   "metadata": {},
   "outputs": [],
   "source": [
    "#Нахождение метрик\n",
    "ROC_AUC_LR = roc_auc_score(y_test, LR_y_pred_proba)\n",
    "accuracy_LR = accuracy_score(y_test, LR_y_pred)\n",
    "recall_LR = recall_score(y_test, LR_y_pred)\n",
    "precision_LR = precision_score(y_test, LR_y_pred)\n",
    "f1_LR = f1_score(y_test, LR_y_pred)"
   ]
  },
  {
   "cell_type": "code",
   "execution_count": 57,
   "metadata": {},
   "outputs": [
    {
     "data": {
      "image/png": "[encoded data removed]",
      "text/plain": [
       "<Figure size 432x288 with 1 Axes>"
      ]
     },
     "metadata": {
      "needs_background": "light"
     },
     "output_type": "display_data"
    },
    {
     "name": "stdout",
     "output_type": "stream",
     "text": [
      "LR ROC AUC = 0.7904598914911507\n"
     ]
    }
   ],
   "source": [
    "FP_LR, TP_LR, _ = roc_curve(y_test, LR_y_pred_proba)\n",
    "plt.title('ROC Curve LR')\n",
    "plt.plot(FP_LR, TP_LR)\n",
    "\n",
    "plt.ylabel('True Positive rate')\n",
    "plt.xlabel('False Positive rate')\n",
    "\n",
    "plt.show()\n",
    "print('LR ROC AUC =', ROC_AUC_LR)"
   ]
  },
  {
   "cell_type": "code",
   "execution_count": 58,
   "metadata": {},
   "outputs": [
    {
     "data": {
      "text/plain": [
       "array([[0.99336465, 0.00663535],\n",
       "       [0.96111991, 0.03888009],\n",
       "       [0.95850712, 0.04149288],\n",
       "       ...,\n",
       "       [0.9867905 , 0.0132095 ],\n",
       "       [0.89658266, 0.10341734],\n",
       "       [0.80662197, 0.19337803]])"
      ]
     },
     "execution_count": 58,
     "metadata": {},
     "output_type": "execute_result"
    }
   ],
   "source": []
  },
  {
   "cell_type": "code",
   "execution_count": 62,
   "metadata": {},
   "outputs": [
    {
     "data": {
      "text/plain": [
       "1"
      ]
     },
     "execution_count": 62,
     "metadata": {},
     "output_type": "execute_result"
    }
   ],
   "source": [
    "(LR_model.predict_proba(X_test)[1] > 0.5).sum()"
   ]
  },
  {
   "cell_type": "code",
   "execution_count": 60,
   "metadata": {},
   "outputs": [
    {
     "data": {
      "text/plain": [
       "471"
      ]
     },
     "execution_count": 60,
     "metadata": {},
     "output_type": "execute_result"
    }
   ],
   "source": [
    "LR_model.predict(X_test).sum()"
   ]
  },
  {
   "cell_type": "markdown",
   "metadata": {},
   "source": [
    "**XGboost**"
   ]
  },
  {
   "cell_type": "markdown",
   "metadata": {},
   "source": [
    "Рассмотрим работу XGBoost с разными бустерами. Можно выбрать gbtree/dart, которые используют модели, основанные на решающих деревьях, либо gblinear, который использует линейные модели. Далее, создаем и оцениваем модель по пайплайну, как с RandomForest."
   ]
  },
  {
   "cell_type": "code",
   "execution_count": 33,
   "metadata": {},
   "outputs": [
    {
     "name": "stdout",
     "output_type": "stream",
     "text": [
      "Requirement already satisfied: xgboost in ./opt/anaconda3/lib/python3.9/site-packages (1.6.2)\n",
      "Requirement already satisfied: scipy in ./opt/anaconda3/lib/python3.9/site-packages (from xgboost) (1.9.2)\n",
      "Requirement already satisfied: numpy in ./opt/anaconda3/lib/python3.9/site-packages (from xgboost) (1.21.5)\n"
     ]
    }
   ],
   "source": [
    "!pip install --upgrade xgboost\n",
    "from xgboost import XGBClassifier"
   ]
  },
  {
   "cell_type": "code",
   "execution_count": 135,
   "metadata": {},
   "outputs": [],
   "source": [
    "XGBR_1 = XGBClassifier(booster = 'gbtree')\n",
    "XGBR_1.fit(X_train_final, y_train_final)\n",
    "XGBR_1_y_pred_proba = XGBR_1.predict_proba(X_test)[:,1]\n",
    "XGBR_1_y_pred = XGBR_1.predict(X_test)"
   ]
  },
  {
   "cell_type": "code",
   "execution_count": 136,
   "metadata": {},
   "outputs": [
    {
     "name": "stdout",
     "output_type": "stream",
     "text": [
      "0.8579073148372168\n"
     ]
    }
   ],
   "source": [
    "ROC_AUC_XGBR_1 = roc_auc_score(y_test, XGBR_1_y_pred_proba)\n",
    "print(ROC_AUC_XGBR_1)"
   ]
  },
  {
   "cell_type": "code",
   "execution_count": 137,
   "metadata": {},
   "outputs": [],
   "source": [
    "XGBR_2 = XGBClassifier(booster = 'gblinear')\n",
    "XGBR_2.fit(X_train_final, y_train_final)\n",
    "XGBR_2_y_pred_proba = XGBR_2.predict_proba(X_test)[:,1]\n",
    "XGBR_2_y_pred = XGBR_2.predict(X_test)"
   ]
  },
  {
   "cell_type": "code",
   "execution_count": 138,
   "metadata": {},
   "outputs": [
    {
     "name": "stdout",
     "output_type": "stream",
     "text": [
      "0.8568885045882921\n"
     ]
    }
   ],
   "source": [
    "ROC_AUC_XGBR_2 = roc_auc_score(y_test, XGBR_2_y_pred_proba)\n",
    "print(ROC_AUC_XGBR_2)"
   ]
  },
  {
   "cell_type": "code",
   "execution_count": 139,
   "metadata": {},
   "outputs": [],
   "source": [
    "XGBR_3 = XGBClassifier(booster = 'dart')\n",
    "XGBR_3.fit(X_train_final, y_train_final)\n",
    "XGBR_3_y_pred_proba = XGBR_3.predict_proba(X_test)[:,1]\n",
    "XGBR_3_y_pred = XGBR_3.predict(X_test)"
   ]
  },
  {
   "cell_type": "code",
   "execution_count": 140,
   "metadata": {},
   "outputs": [
    {
     "name": "stdout",
     "output_type": "stream",
     "text": [
      "0.8579073148372168\n"
     ]
    }
   ],
   "source": [
    "ROC_AUC_XGBR_3 = roc_auc_score(y_test, XGBR_3_y_pred_proba)\n",
    "print(ROC_AUC_XGBR_3)"
   ]
  },
  {
   "cell_type": "code",
   "execution_count": 141,
   "metadata": {},
   "outputs": [],
   "source": [
    "best = np.argmax([ROC_AUC_XGBR_1, ROC_AUC_XGBR_2, ROC_AUC_XGBR_3])\n",
    "best_pred = [XGBR_1_y_pred, XGBR_2_y_pred, XGBR_3_y_pred][best]\n",
    "XGBR_best_y_pred_proba = [XGBR_1_y_pred_proba,XGBR_2_y_pred_proba,XGBR_3_y_pred_proba][best]"
   ]
  },
  {
   "cell_type": "code",
   "execution_count": 142,
   "metadata": {},
   "outputs": [],
   "source": [
    "#Нахождение метрик самого наилучшего - linear\n",
    "ROC_AUC_XGBR = [ROC_AUC_XGBR_1, ROC_AUC_XGBR_2, ROC_AUC_XGBR_3][best]\n",
    "accuracy_XGBR = accuracy_score(y_test, best_pred)\n",
    "recall_XGBR = recall_score(y_test, best_pred)\n",
    "precision_XGBR = precision_score(y_test, best_pred)\n",
    "f1_XGBR = f1_score(y_test, best_pred)"
   ]
  },
  {
   "cell_type": "code",
   "execution_count": 143,
   "metadata": {},
   "outputs": [
    {
     "data": {
      "image/png": "[encoded data removed]",
      "text/plain": [
       "<Figure size 432x288 with 1 Axes>"
      ]
     },
     "metadata": {
      "needs_background": "light"
     },
     "output_type": "display_data"
    },
    {
     "name": "stdout",
     "output_type": "stream",
     "text": [
      "XGB ROC AUC = 0.8579073148372168\n"
     ]
    }
   ],
   "source": [
    "FP_XGBR, TP_XGBR, _ = roc_curve(y_test, XGBR_best_y_pred_proba)\n",
    "plt.title('ROC Curve XGB')\n",
    "plt.plot(FP_XGBR, TP_XGBR)\n",
    "\n",
    "plt.ylabel('True Positive rate')\n",
    "plt.xlabel('False Positive rate')\n",
    "\n",
    "plt.show()\n",
    "print('XGB ROC AUC =', ROC_AUC_XGBR)"
   ]
  },
  {
   "cell_type": "markdown",
   "metadata": {},
   "source": [
    "***Рассмотрим метрики разных моделей в сравнении***"
   ]
  },
  {
   "cell_type": "code",
   "execution_count": 50,
   "metadata": {},
   "outputs": [],
   "source": [
    "ROC_AUCs = [ROC_AUC_RFC, ROC_AUC_HGB, ROC_AUC_KNN, ROC_AUC_LR, ROC_AUC_XGBR]\n",
    "precisions = [precision_RFC, precision_HGB, precision_KNN, precision_LR, precision_XGBR]\n",
    "recalls = [recall_RFC, recall_HGB, recall_KNN, recall_LR, recall_XGBR]\n",
    "f1s = [f1_RFC, f1_HGB, f1_KNN, f1_LR, f1_XGBR]\n",
    "accuracys = [accuracy_RFC, accuracy_HGB, accuracy_KNN, accuracy_LR, accuracy_XGBR]"
   ]
  },
  {
   "cell_type": "code",
   "execution_count": 51,
   "metadata": {
    "scrolled": true
   },
   "outputs": [
    {
     "data": {
      "text/html": [
       "<div>\n",
       "<style scoped>\n",
       "    .dataframe tbody tr th:only-of-type {\n",
       "        vertical-align: middle;\n",
       "    }\n",
       "\n",
       "    .dataframe tbody tr th {\n",
       "        vertical-align: top;\n",
       "    }\n",
       "\n",
       "    .dataframe thead th {\n",
       "        text-align: right;\n",
       "    }\n",
       "</style>\n",
       "<table border=\"1\" class=\"dataframe\">\n",
       "  <thead>\n",
       "    <tr style=\"text-align: right;\">\n",
       "      <th></th>\n",
       "      <th>RFC</th>\n",
       "      <th>HGB</th>\n",
       "      <th>KNN</th>\n",
       "      <th>LR</th>\n",
       "      <th>XGBR</th>\n",
       "    </tr>\n",
       "  </thead>\n",
       "  <tbody>\n",
       "    <tr>\n",
       "      <th>ROC AUC</th>\n",
       "      <td>0.849604</td>\n",
       "      <td>0.865825</td>\n",
       "      <td>0.711056</td>\n",
       "      <td>0.665743</td>\n",
       "      <td>0.857990</td>\n",
       "    </tr>\n",
       "    <tr>\n",
       "      <th>Precision</th>\n",
       "      <td>0.587838</td>\n",
       "      <td>0.621429</td>\n",
       "      <td>0.542986</td>\n",
       "      <td>0.641026</td>\n",
       "      <td>0.562130</td>\n",
       "    </tr>\n",
       "    <tr>\n",
       "      <th>Recall</th>\n",
       "      <td>0.191771</td>\n",
       "      <td>0.191771</td>\n",
       "      <td>0.088170</td>\n",
       "      <td>0.018369</td>\n",
       "      <td>0.209405</td>\n",
       "    </tr>\n",
       "    <tr>\n",
       "      <th>f1</th>\n",
       "      <td>0.289197</td>\n",
       "      <td>0.293094</td>\n",
       "      <td>0.151707</td>\n",
       "      <td>0.035714</td>\n",
       "      <td>0.305139</td>\n",
       "    </tr>\n",
       "    <tr>\n",
       "      <th>Accuracy</th>\n",
       "      <td>0.938969</td>\n",
       "      <td>0.940110</td>\n",
       "      <td>0.936162</td>\n",
       "      <td>0.935782</td>\n",
       "      <td>0.938255</td>\n",
       "    </tr>\n",
       "  </tbody>\n",
       "</table>\n",
       "</div>"
      ],
      "text/plain": [
       "                RFC       HGB       KNN        LR      XGBR\n",
       "ROC AUC    0.849604  0.865825  0.711056  0.665743  0.857990\n",
       "Precision  0.587838  0.621429  0.542986  0.641026  0.562130\n",
       "Recall     0.191771  0.191771  0.088170  0.018369  0.209405\n",
       "f1         0.289197  0.293094  0.151707  0.035714  0.305139\n",
       "Accuracy   0.938969  0.940110  0.936162  0.935782  0.938255"
      ]
     },
     "execution_count": 51,
     "metadata": {},
     "output_type": "execute_result"
    }
   ],
   "source": [
    "models_compare = pd.DataFrame(columns = ['RFC','HGB','KNN','LR','XGBR'],\n",
    "                              data = [ROC_AUCs, precisions,recalls,f1s, accuracys],\n",
    "                              index = ['ROC AUC','Precision','Recall','f1','Accuracy'])\n",
    "models_compare"
   ]
  },
  {
   "cell_type": "markdown",
   "metadata": {},
   "source": [
    "Мы максимизируем ROC AUC, соответсвенно, лучше всего подходит модель HistGradientBoostingClassifier."
   ]
  },
  {
   "cell_type": "markdown",
   "metadata": {
    "id": "sCWkiokDg0-0"
   },
   "source": [
    "# Редактирование всего целого датасета для построения финальной модели"
   ]
  },
  {
   "cell_type": "markdown",
   "metadata": {
    "id": "bhdhTOphg-oI"
   },
   "source": [
    "Считываем весь датасет, теперь его не делим на train и test"
   ]
  },
  {
   "cell_type": "code",
   "execution_count": 393,
   "metadata": {
    "id": "ALcO14vFhDe6"
   },
   "outputs": [],
   "source": [
    "X_all = pd.read_csv('X_train.csv')\n",
    "y_all = pd.read_csv('y_train.csv')\n",
    "\n",
    "X_all['Target'] = y_all"
   ]
  },
  {
   "cell_type": "markdown",
   "metadata": {
    "id": "2I05DN_Qhs4s"
   },
   "source": [
    "**Далее проводим такую же обработку данных, как это было сделано выше**"
   ]
  },
  {
   "cell_type": "code",
   "execution_count": 394,
   "metadata": {
    "id": "OBgTuKPJh1WE"
   },
   "outputs": [],
   "source": [
    "#возраст\n",
    "X_all = X_all.loc[X_all['age'] >= 18]\n",
    "X_all = X_all.loc[X_all['age']<99]\n",
    "\n",
    "#credit card utilization\n",
    "X_all = X_all.loc[X_all['credit_card_utilization'] < 6]\n",
    "\n",
    "#overdue\n",
    "X_all = X_all.loc[X_all['overdue_30_59_days'] <15]\n",
    "\n",
    "#месячный доход\n",
    "median_income_all = X_all['monthly_income'].median()\n",
    "X_all['monthly_income'] = X_all['monthly_income'].fillna(median_income_all)\n",
    "\n",
    "#credit loans\n",
    "X_all = X_all[X_all['credits_loans'] <= 25]\n",
    "\n",
    "#mortgage loans\n",
    "X_all = X_all[X_all['mortgage_loans'] <= 5]\n",
    "\n",
    "#family members\n",
    "X_all['family_members'] = X_all['family_members'].fillna(0)\n",
    "X_all['family_members'] = X_all['family_members'].astype(\"int64\")\n",
    "X_all = X_all[X_all['family_members'] <= 3]"
   ]
  },
  {
   "cell_type": "code",
   "execution_count": 395,
   "metadata": {
    "colab": {
     "base_uri": "https://localhost:8080/"
    },
    "id": "_pKrUalfj0_U",
    "outputId": "fa1921b4-79de-4cc9-a3f4-ed48457cb223"
   },
   "outputs": [
    {
     "data": {
      "text/plain": [
       "0    94166\n",
       "1     6472\n",
       "Name: Target, dtype: int64"
      ]
     },
     "execution_count": 395,
     "metadata": {},
     "output_type": "execute_result"
    }
   ],
   "source": [
    "X_all_final = X_all.drop(columns = 'Target')\n",
    "y_all_final = X_all['Target']\n",
    "y_all_final.value_counts()"
   ]
  },
  {
   "cell_type": "markdown",
   "metadata": {
    "id": "2_G-um4ukQsi"
   },
   "source": [
    "# Финальное предсказание и выгрузка результатов"
   ]
  },
  {
   "cell_type": "markdown",
   "metadata": {
    "id": "te3rCUVolfZi"
   },
   "source": [
    "Считаем данные x_test и y_test"
   ]
  },
  {
   "cell_type": "code",
   "execution_count": 396,
   "metadata": {
    "id": "GcwVn2bGli3h"
   },
   "outputs": [],
   "source": [
    "X_test_kaggle = pd.read_csv('X_test.csv')\n",
    "X_test_kaggle.drop(columns = 'index', inplace = True)\n",
    "\n",
    "y_test_kaggle = pd.read_csv('y_test_sample.csv')"
   ]
  },
  {
   "cell_type": "markdown",
   "metadata": {
    "id": "Dv02R28JkVMF"
   },
   "source": [
    "**Будем использовать HistGradientBoostingClassifier**"
   ]
  },
  {
   "cell_type": "code",
   "execution_count": 256,
   "metadata": {
    "colab": {
     "base_uri": "https://localhost:8080/"
    },
    "id": "7NjhbHohkcfP",
    "outputId": "8e77bb05-57de-4a96-c29d-d9896628cdfb"
   },
   "outputs": [
    {
     "data": {
      "text/plain": [
       "{'learning_rate': 0.1, 'max_leaf_nodes': 20, 'min_samples_leaf': 20}"
      ]
     },
     "execution_count": 256,
     "metadata": {},
     "output_type": "execute_result"
    }
   ],
   "source": [
    "parametrs_HGB = { 'learning_rate': [0.1, 0.2, 0.4, 0.6, 0.8, 1, 1.2, 1.4, 1.6, 1.8, 2],\n",
    "                'max_leaf_nodes': range (10,40,10),\n",
    "                'min_samples_leaf': range (10,30,5) }\n",
    "\n",
    "\n",
    "grid_HGB = GridSearchCV(HistGradientBoostingClassifier(), parametrs_HGB, cv=5, scoring='roc_auc')\n",
    "grid_HGB.fit(X_train_final, y_train_final)\n",
    "\n",
    "grid_HGB.best_params_"
   ]
  },
  {
   "cell_type": "code",
   "execution_count": 397,
   "metadata": {
    "id": "ywGKdPcOkp88"
   },
   "outputs": [],
   "source": [
    "HGB_model_all = HistGradientBoostingClassifier(learning_rate = 0.1, max_leaf_nodes = 20, min_samples_leaf = 20)\n",
    "HGB_model_all.fit(X_all_final, y_all_final)\n",
    "HGB_y_pred_all_proba = HGB_model_all.predict_proba(X_test_kaggle)[:, 1]"
   ]
  },
  {
   "cell_type": "markdown",
   "metadata": {
    "id": "maxk4DaO5oBT"
   },
   "source": [
    "**Сохраним полученные данные в файл csv**"
   ]
  },
  {
   "cell_type": "code",
   "execution_count": 398,
   "metadata": {
    "id": "bWBtdTGBCJrg"
   },
   "outputs": [],
   "source": [
    "#from google.colab import files\n",
    "y_test_kaggle['target'] = HGB_y_pred_all_proba\n",
    "y_test_kaggle.to_csv('Results.csv', index = False) "
   ]
  }
 ],
 "metadata": {
  "colab": {
   "collapsed_sections": [],
   "provenance": []
  },
  "kernelspec": {
   "display_name": "Python 3 (ipykernel)",
   "language": "python",
   "name": "python3"
  },
  "language_info": {
   "codemirror_mode": {
    "name": "ipython",
    "version": 3
   },
   "file_extension": ".py",
   "mimetype": "text/x-python",
   "name": "python",
   "nbconvert_exporter": "python",
   "pygments_lexer": "ipython3",
   "version": "3.9.12"
  }
 },
 "nbformat": 4,
 "nbformat_minor": 1
}
